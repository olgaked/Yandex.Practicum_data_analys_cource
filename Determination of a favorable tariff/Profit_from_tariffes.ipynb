{
 "cells": [
  {
   "cell_type": "markdown",
   "metadata": {},
   "source": [
    "# Определение перспективного тарифа для телеком-компании"
   ]
  },
  {
   "cell_type": "markdown",
   "metadata": {},
   "source": [
    "## 1. Изучение общей информации"
   ]
  },
  {
   "cell_type": "code",
   "execution_count": 1,
   "metadata": {},
   "outputs": [],
   "source": [
    "#импортирую библиотеки\n",
    "import pandas as pd\n",
    "import matplotlib.pyplot as plt\n",
    "import warnings\n",
    "import numpy as np\n",
    "import seaborn as sns\n",
    "from scipy import stats as st\n",
    "\n",
    "warnings.filterwarnings('ignore')"
   ]
  },
  {
   "cell_type": "code",
   "execution_count": 2,
   "metadata": {},
   "outputs": [],
   "source": [
    "#задаю путь\n",
    "path='C:/Users/dospe/Desktop/ЯПрактикум/описательная статистика/проект/'"
   ]
  },
  {
   "cell_type": "code",
   "execution_count": 3,
   "metadata": {},
   "outputs": [
    {
     "name": "stdout",
     "output_type": "stream",
     "text": [
      "<class 'pandas.core.frame.DataFrame'>\n",
      "RangeIndex: 202607 entries, 0 to 202606\n",
      "Data columns (total 4 columns):\n",
      " #   Column     Non-Null Count   Dtype  \n",
      "---  ------     --------------   -----  \n",
      " 0   id         202607 non-null  object \n",
      " 1   call_date  202607 non-null  object \n",
      " 2   duration   202607 non-null  float64\n",
      " 3   user_id    202607 non-null  int64  \n",
      "dtypes: float64(1), int64(1), object(2)\n",
      "memory usage: 6.2+ MB\n"
     ]
    },
    {
     "data": {
      "text/html": [
       "<div>\n",
       "<style scoped>\n",
       "    .dataframe tbody tr th:only-of-type {\n",
       "        vertical-align: middle;\n",
       "    }\n",
       "\n",
       "    .dataframe tbody tr th {\n",
       "        vertical-align: top;\n",
       "    }\n",
       "\n",
       "    .dataframe thead th {\n",
       "        text-align: right;\n",
       "    }\n",
       "</style>\n",
       "<table border=\"1\" class=\"dataframe\">\n",
       "  <thead>\n",
       "    <tr style=\"text-align: right;\">\n",
       "      <th></th>\n",
       "      <th>id</th>\n",
       "      <th>call_date</th>\n",
       "      <th>duration</th>\n",
       "      <th>user_id</th>\n",
       "    </tr>\n",
       "  </thead>\n",
       "  <tbody>\n",
       "    <tr>\n",
       "      <th>0</th>\n",
       "      <td>1000_0</td>\n",
       "      <td>2018-07-25</td>\n",
       "      <td>0.00</td>\n",
       "      <td>1000</td>\n",
       "    </tr>\n",
       "    <tr>\n",
       "      <th>1</th>\n",
       "      <td>1000_1</td>\n",
       "      <td>2018-08-17</td>\n",
       "      <td>0.00</td>\n",
       "      <td>1000</td>\n",
       "    </tr>\n",
       "    <tr>\n",
       "      <th>2</th>\n",
       "      <td>1000_2</td>\n",
       "      <td>2018-06-11</td>\n",
       "      <td>2.85</td>\n",
       "      <td>1000</td>\n",
       "    </tr>\n",
       "    <tr>\n",
       "      <th>3</th>\n",
       "      <td>1000_3</td>\n",
       "      <td>2018-09-21</td>\n",
       "      <td>13.80</td>\n",
       "      <td>1000</td>\n",
       "    </tr>\n",
       "    <tr>\n",
       "      <th>4</th>\n",
       "      <td>1000_4</td>\n",
       "      <td>2018-12-15</td>\n",
       "      <td>5.18</td>\n",
       "      <td>1000</td>\n",
       "    </tr>\n",
       "  </tbody>\n",
       "</table>\n",
       "</div>"
      ],
      "text/plain": [
       "       id   call_date  duration  user_id\n",
       "0  1000_0  2018-07-25      0.00     1000\n",
       "1  1000_1  2018-08-17      0.00     1000\n",
       "2  1000_2  2018-06-11      2.85     1000\n",
       "3  1000_3  2018-09-21     13.80     1000\n",
       "4  1000_4  2018-12-15      5.18     1000"
      ]
     },
     "execution_count": 3,
     "metadata": {},
     "output_type": "execute_result"
    }
   ],
   "source": [
    "#изучаю информацию методом info(), открываю первые строки таблицы calls\n",
    "calls=pd.read_csv(path+'calls.csv')\n",
    "calls.info()\n",
    "calls.head()"
   ]
  },
  {
   "cell_type": "code",
   "execution_count": 4,
   "metadata": {},
   "outputs": [
    {
     "name": "stdout",
     "output_type": "stream",
     "text": [
      "<class 'pandas.core.frame.DataFrame'>\n",
      "RangeIndex: 149396 entries, 0 to 149395\n",
      "Data columns (total 5 columns):\n",
      " #   Column        Non-Null Count   Dtype  \n",
      "---  ------        --------------   -----  \n",
      " 0   Unnamed: 0    149396 non-null  int64  \n",
      " 1   id            149396 non-null  object \n",
      " 2   mb_used       149396 non-null  float64\n",
      " 3   session_date  149396 non-null  object \n",
      " 4   user_id       149396 non-null  int64  \n",
      "dtypes: float64(1), int64(2), object(2)\n",
      "memory usage: 5.7+ MB\n"
     ]
    },
    {
     "data": {
      "text/html": [
       "<div>\n",
       "<style scoped>\n",
       "    .dataframe tbody tr th:only-of-type {\n",
       "        vertical-align: middle;\n",
       "    }\n",
       "\n",
       "    .dataframe tbody tr th {\n",
       "        vertical-align: top;\n",
       "    }\n",
       "\n",
       "    .dataframe thead th {\n",
       "        text-align: right;\n",
       "    }\n",
       "</style>\n",
       "<table border=\"1\" class=\"dataframe\">\n",
       "  <thead>\n",
       "    <tr style=\"text-align: right;\">\n",
       "      <th></th>\n",
       "      <th>Unnamed: 0</th>\n",
       "      <th>id</th>\n",
       "      <th>mb_used</th>\n",
       "      <th>session_date</th>\n",
       "      <th>user_id</th>\n",
       "    </tr>\n",
       "  </thead>\n",
       "  <tbody>\n",
       "    <tr>\n",
       "      <th>0</th>\n",
       "      <td>0</td>\n",
       "      <td>1000_0</td>\n",
       "      <td>112.95</td>\n",
       "      <td>2018-11-25</td>\n",
       "      <td>1000</td>\n",
       "    </tr>\n",
       "    <tr>\n",
       "      <th>1</th>\n",
       "      <td>1</td>\n",
       "      <td>1000_1</td>\n",
       "      <td>1052.81</td>\n",
       "      <td>2018-09-07</td>\n",
       "      <td>1000</td>\n",
       "    </tr>\n",
       "    <tr>\n",
       "      <th>2</th>\n",
       "      <td>2</td>\n",
       "      <td>1000_2</td>\n",
       "      <td>1197.26</td>\n",
       "      <td>2018-06-25</td>\n",
       "      <td>1000</td>\n",
       "    </tr>\n",
       "    <tr>\n",
       "      <th>3</th>\n",
       "      <td>3</td>\n",
       "      <td>1000_3</td>\n",
       "      <td>550.27</td>\n",
       "      <td>2018-08-22</td>\n",
       "      <td>1000</td>\n",
       "    </tr>\n",
       "    <tr>\n",
       "      <th>4</th>\n",
       "      <td>4</td>\n",
       "      <td>1000_4</td>\n",
       "      <td>302.56</td>\n",
       "      <td>2018-09-24</td>\n",
       "      <td>1000</td>\n",
       "    </tr>\n",
       "  </tbody>\n",
       "</table>\n",
       "</div>"
      ],
      "text/plain": [
       "   Unnamed: 0      id  mb_used session_date  user_id\n",
       "0           0  1000_0   112.95   2018-11-25     1000\n",
       "1           1  1000_1  1052.81   2018-09-07     1000\n",
       "2           2  1000_2  1197.26   2018-06-25     1000\n",
       "3           3  1000_3   550.27   2018-08-22     1000\n",
       "4           4  1000_4   302.56   2018-09-24     1000"
      ]
     },
     "execution_count": 4,
     "metadata": {},
     "output_type": "execute_result"
    }
   ],
   "source": [
    "#изучаю информацию методом info(), открываю первые строки таблицы internet\n",
    "internet=pd.read_csv(path+'internet.csv')\n",
    "internet.info()\n",
    "internet.head()"
   ]
  },
  {
   "cell_type": "code",
   "execution_count": 5,
   "metadata": {},
   "outputs": [
    {
     "name": "stdout",
     "output_type": "stream",
     "text": [
      "<class 'pandas.core.frame.DataFrame'>\n",
      "RangeIndex: 123036 entries, 0 to 123035\n",
      "Data columns (total 3 columns):\n",
      " #   Column        Non-Null Count   Dtype \n",
      "---  ------        --------------   ----- \n",
      " 0   id            123036 non-null  object\n",
      " 1   message_date  123036 non-null  object\n",
      " 2   user_id       123036 non-null  int64 \n",
      "dtypes: int64(1), object(2)\n",
      "memory usage: 2.8+ MB\n"
     ]
    },
    {
     "data": {
      "text/html": [
       "<div>\n",
       "<style scoped>\n",
       "    .dataframe tbody tr th:only-of-type {\n",
       "        vertical-align: middle;\n",
       "    }\n",
       "\n",
       "    .dataframe tbody tr th {\n",
       "        vertical-align: top;\n",
       "    }\n",
       "\n",
       "    .dataframe thead th {\n",
       "        text-align: right;\n",
       "    }\n",
       "</style>\n",
       "<table border=\"1\" class=\"dataframe\">\n",
       "  <thead>\n",
       "    <tr style=\"text-align: right;\">\n",
       "      <th></th>\n",
       "      <th>id</th>\n",
       "      <th>message_date</th>\n",
       "      <th>user_id</th>\n",
       "    </tr>\n",
       "  </thead>\n",
       "  <tbody>\n",
       "    <tr>\n",
       "      <th>0</th>\n",
       "      <td>1000_0</td>\n",
       "      <td>2018-06-27</td>\n",
       "      <td>1000</td>\n",
       "    </tr>\n",
       "    <tr>\n",
       "      <th>1</th>\n",
       "      <td>1000_1</td>\n",
       "      <td>2018-10-08</td>\n",
       "      <td>1000</td>\n",
       "    </tr>\n",
       "    <tr>\n",
       "      <th>2</th>\n",
       "      <td>1000_2</td>\n",
       "      <td>2018-08-04</td>\n",
       "      <td>1000</td>\n",
       "    </tr>\n",
       "    <tr>\n",
       "      <th>3</th>\n",
       "      <td>1000_3</td>\n",
       "      <td>2018-06-16</td>\n",
       "      <td>1000</td>\n",
       "    </tr>\n",
       "    <tr>\n",
       "      <th>4</th>\n",
       "      <td>1000_4</td>\n",
       "      <td>2018-12-05</td>\n",
       "      <td>1000</td>\n",
       "    </tr>\n",
       "  </tbody>\n",
       "</table>\n",
       "</div>"
      ],
      "text/plain": [
       "       id message_date  user_id\n",
       "0  1000_0   2018-06-27     1000\n",
       "1  1000_1   2018-10-08     1000\n",
       "2  1000_2   2018-08-04     1000\n",
       "3  1000_3   2018-06-16     1000\n",
       "4  1000_4   2018-12-05     1000"
      ]
     },
     "execution_count": 5,
     "metadata": {},
     "output_type": "execute_result"
    }
   ],
   "source": [
    "#изучаю информацию методом info(), открываю первые строки таблицы messages\n",
    "messages=pd.read_csv(path+'messages.csv')\n",
    "messages.info()\n",
    "messages.head()"
   ]
  },
  {
   "cell_type": "code",
   "execution_count": 6,
   "metadata": {},
   "outputs": [
    {
     "name": "stdout",
     "output_type": "stream",
     "text": [
      "<class 'pandas.core.frame.DataFrame'>\n",
      "RangeIndex: 2 entries, 0 to 1\n",
      "Data columns (total 8 columns):\n",
      " #   Column                 Non-Null Count  Dtype \n",
      "---  ------                 --------------  ----- \n",
      " 0   messages_included      2 non-null      int64 \n",
      " 1   mb_per_month_included  2 non-null      int64 \n",
      " 2   minutes_included       2 non-null      int64 \n",
      " 3   rub_monthly_fee        2 non-null      int64 \n",
      " 4   rub_per_gb             2 non-null      int64 \n",
      " 5   rub_per_message        2 non-null      int64 \n",
      " 6   rub_per_minute         2 non-null      int64 \n",
      " 7   tariff_name            2 non-null      object\n",
      "dtypes: int64(7), object(1)\n",
      "memory usage: 256.0+ bytes\n"
     ]
    },
    {
     "data": {
      "text/html": [
       "<div>\n",
       "<style scoped>\n",
       "    .dataframe tbody tr th:only-of-type {\n",
       "        vertical-align: middle;\n",
       "    }\n",
       "\n",
       "    .dataframe tbody tr th {\n",
       "        vertical-align: top;\n",
       "    }\n",
       "\n",
       "    .dataframe thead th {\n",
       "        text-align: right;\n",
       "    }\n",
       "</style>\n",
       "<table border=\"1\" class=\"dataframe\">\n",
       "  <thead>\n",
       "    <tr style=\"text-align: right;\">\n",
       "      <th></th>\n",
       "      <th>messages_included</th>\n",
       "      <th>mb_per_month_included</th>\n",
       "      <th>minutes_included</th>\n",
       "      <th>rub_monthly_fee</th>\n",
       "      <th>rub_per_gb</th>\n",
       "      <th>rub_per_message</th>\n",
       "      <th>rub_per_minute</th>\n",
       "      <th>tariff_name</th>\n",
       "    </tr>\n",
       "  </thead>\n",
       "  <tbody>\n",
       "    <tr>\n",
       "      <th>0</th>\n",
       "      <td>50</td>\n",
       "      <td>15360</td>\n",
       "      <td>500</td>\n",
       "      <td>550</td>\n",
       "      <td>200</td>\n",
       "      <td>3</td>\n",
       "      <td>3</td>\n",
       "      <td>smart</td>\n",
       "    </tr>\n",
       "    <tr>\n",
       "      <th>1</th>\n",
       "      <td>1000</td>\n",
       "      <td>30720</td>\n",
       "      <td>3000</td>\n",
       "      <td>1950</td>\n",
       "      <td>150</td>\n",
       "      <td>1</td>\n",
       "      <td>1</td>\n",
       "      <td>ultra</td>\n",
       "    </tr>\n",
       "  </tbody>\n",
       "</table>\n",
       "</div>"
      ],
      "text/plain": [
       "   messages_included  mb_per_month_included  minutes_included  \\\n",
       "0                 50                  15360               500   \n",
       "1               1000                  30720              3000   \n",
       "\n",
       "   rub_monthly_fee  rub_per_gb  rub_per_message  rub_per_minute tariff_name  \n",
       "0              550         200                3               3       smart  \n",
       "1             1950         150                1               1       ultra  "
      ]
     },
     "execution_count": 6,
     "metadata": {},
     "output_type": "execute_result"
    }
   ],
   "source": [
    "#изучаю информацию методом info(), открываю первые строки таблицы tariffs\n",
    "tariffs=pd.read_csv(path+'tariffs.csv')\n",
    "tariffs.info()\n",
    "tariffs.head()"
   ]
  },
  {
   "cell_type": "code",
   "execution_count": 7,
   "metadata": {},
   "outputs": [
    {
     "name": "stdout",
     "output_type": "stream",
     "text": [
      "<class 'pandas.core.frame.DataFrame'>\n",
      "RangeIndex: 500 entries, 0 to 499\n",
      "Data columns (total 8 columns):\n",
      " #   Column      Non-Null Count  Dtype \n",
      "---  ------      --------------  ----- \n",
      " 0   user_id     500 non-null    int64 \n",
      " 1   age         500 non-null    int64 \n",
      " 2   churn_date  38 non-null     object\n",
      " 3   city        500 non-null    object\n",
      " 4   first_name  500 non-null    object\n",
      " 5   last_name   500 non-null    object\n",
      " 6   reg_date    500 non-null    object\n",
      " 7   tariff      500 non-null    object\n",
      "dtypes: int64(2), object(6)\n",
      "memory usage: 31.4+ KB\n"
     ]
    },
    {
     "data": {
      "text/html": [
       "<div>\n",
       "<style scoped>\n",
       "    .dataframe tbody tr th:only-of-type {\n",
       "        vertical-align: middle;\n",
       "    }\n",
       "\n",
       "    .dataframe tbody tr th {\n",
       "        vertical-align: top;\n",
       "    }\n",
       "\n",
       "    .dataframe thead th {\n",
       "        text-align: right;\n",
       "    }\n",
       "</style>\n",
       "<table border=\"1\" class=\"dataframe\">\n",
       "  <thead>\n",
       "    <tr style=\"text-align: right;\">\n",
       "      <th></th>\n",
       "      <th>user_id</th>\n",
       "      <th>age</th>\n",
       "      <th>churn_date</th>\n",
       "      <th>city</th>\n",
       "      <th>first_name</th>\n",
       "      <th>last_name</th>\n",
       "      <th>reg_date</th>\n",
       "      <th>tariff</th>\n",
       "    </tr>\n",
       "  </thead>\n",
       "  <tbody>\n",
       "    <tr>\n",
       "      <th>0</th>\n",
       "      <td>1000</td>\n",
       "      <td>52</td>\n",
       "      <td>NaN</td>\n",
       "      <td>Краснодар</td>\n",
       "      <td>Рафаил</td>\n",
       "      <td>Верещагин</td>\n",
       "      <td>2018-05-25</td>\n",
       "      <td>ultra</td>\n",
       "    </tr>\n",
       "    <tr>\n",
       "      <th>1</th>\n",
       "      <td>1001</td>\n",
       "      <td>41</td>\n",
       "      <td>NaN</td>\n",
       "      <td>Москва</td>\n",
       "      <td>Иван</td>\n",
       "      <td>Ежов</td>\n",
       "      <td>2018-11-01</td>\n",
       "      <td>smart</td>\n",
       "    </tr>\n",
       "    <tr>\n",
       "      <th>2</th>\n",
       "      <td>1002</td>\n",
       "      <td>59</td>\n",
       "      <td>NaN</td>\n",
       "      <td>Стерлитамак</td>\n",
       "      <td>Евгений</td>\n",
       "      <td>Абрамович</td>\n",
       "      <td>2018-06-17</td>\n",
       "      <td>smart</td>\n",
       "    </tr>\n",
       "    <tr>\n",
       "      <th>3</th>\n",
       "      <td>1003</td>\n",
       "      <td>23</td>\n",
       "      <td>NaN</td>\n",
       "      <td>Москва</td>\n",
       "      <td>Белла</td>\n",
       "      <td>Белякова</td>\n",
       "      <td>2018-08-17</td>\n",
       "      <td>ultra</td>\n",
       "    </tr>\n",
       "    <tr>\n",
       "      <th>4</th>\n",
       "      <td>1004</td>\n",
       "      <td>68</td>\n",
       "      <td>NaN</td>\n",
       "      <td>Новокузнецк</td>\n",
       "      <td>Татьяна</td>\n",
       "      <td>Авдеенко</td>\n",
       "      <td>2018-05-14</td>\n",
       "      <td>ultra</td>\n",
       "    </tr>\n",
       "  </tbody>\n",
       "</table>\n",
       "</div>"
      ],
      "text/plain": [
       "   user_id  age churn_date         city first_name  last_name    reg_date  \\\n",
       "0     1000   52        NaN    Краснодар     Рафаил  Верещагин  2018-05-25   \n",
       "1     1001   41        NaN       Москва       Иван       Ежов  2018-11-01   \n",
       "2     1002   59        NaN  Стерлитамак    Евгений  Абрамович  2018-06-17   \n",
       "3     1003   23        NaN       Москва      Белла   Белякова  2018-08-17   \n",
       "4     1004   68        NaN  Новокузнецк    Татьяна   Авдеенко  2018-05-14   \n",
       "\n",
       "  tariff  \n",
       "0  ultra  \n",
       "1  smart  \n",
       "2  smart  \n",
       "3  ultra  \n",
       "4  ultra  "
      ]
     },
     "execution_count": 7,
     "metadata": {},
     "output_type": "execute_result"
    }
   ],
   "source": [
    "#изучаю информацию методом info(), открываю первые строки таблицы users\n",
    "users=pd.read_csv(path+'users.csv') \n",
    "users.info()\n",
    "users.head()"
   ]
  },
  {
   "cell_type": "code",
   "execution_count": 8,
   "metadata": {},
   "outputs": [
    {
     "name": "stdout",
     "output_type": "stream",
     "text": [
      "Количество дубликатов в таблице calls:  0\n",
      "Количество дубликатов в таблице internet:  0\n",
      "Количество дубликатов в таблице messages:  0\n",
      "Количество дубликатов в таблице users:  0\n"
     ]
    }
   ],
   "source": [
    "# Определяю дубликаты в таблицах\n",
    "print('Количество дубликатов в таблице calls: ', calls.duplicated().sum())\n",
    "print('Количество дубликатов в таблице internet: ', internet.duplicated().sum())\n",
    "print('Количество дубликатов в таблице messages: ', messages.duplicated().sum())\n",
    "print('Количество дубликатов в таблице users: ', users.duplicated().sum())"
   ]
  },
  {
   "cell_type": "code",
   "execution_count": 9,
   "metadata": {},
   "outputs": [
    {
     "name": "stdout",
     "output_type": "stream",
     "text": [
      "Описание таблицы calls\n"
     ]
    },
    {
     "data": {
      "text/html": [
       "<div>\n",
       "<style scoped>\n",
       "    .dataframe tbody tr th:only-of-type {\n",
       "        vertical-align: middle;\n",
       "    }\n",
       "\n",
       "    .dataframe tbody tr th {\n",
       "        vertical-align: top;\n",
       "    }\n",
       "\n",
       "    .dataframe thead th {\n",
       "        text-align: right;\n",
       "    }\n",
       "</style>\n",
       "<table border=\"1\" class=\"dataframe\">\n",
       "  <thead>\n",
       "    <tr style=\"text-align: right;\">\n",
       "      <th></th>\n",
       "      <th>duration</th>\n",
       "      <th>user_id</th>\n",
       "    </tr>\n",
       "  </thead>\n",
       "  <tbody>\n",
       "    <tr>\n",
       "      <th>count</th>\n",
       "      <td>202607.000000</td>\n",
       "      <td>202607.000000</td>\n",
       "    </tr>\n",
       "    <tr>\n",
       "      <th>mean</th>\n",
       "      <td>6.755887</td>\n",
       "      <td>1253.940619</td>\n",
       "    </tr>\n",
       "    <tr>\n",
       "      <th>std</th>\n",
       "      <td>5.843365</td>\n",
       "      <td>144.722751</td>\n",
       "    </tr>\n",
       "    <tr>\n",
       "      <th>min</th>\n",
       "      <td>0.000000</td>\n",
       "      <td>1000.000000</td>\n",
       "    </tr>\n",
       "    <tr>\n",
       "      <th>25%</th>\n",
       "      <td>1.300000</td>\n",
       "      <td>1126.000000</td>\n",
       "    </tr>\n",
       "    <tr>\n",
       "      <th>50%</th>\n",
       "      <td>6.000000</td>\n",
       "      <td>1260.000000</td>\n",
       "    </tr>\n",
       "    <tr>\n",
       "      <th>75%</th>\n",
       "      <td>10.700000</td>\n",
       "      <td>1379.000000</td>\n",
       "    </tr>\n",
       "    <tr>\n",
       "      <th>max</th>\n",
       "      <td>38.000000</td>\n",
       "      <td>1499.000000</td>\n",
       "    </tr>\n",
       "  </tbody>\n",
       "</table>\n",
       "</div>"
      ],
      "text/plain": [
       "            duration        user_id\n",
       "count  202607.000000  202607.000000\n",
       "mean        6.755887    1253.940619\n",
       "std         5.843365     144.722751\n",
       "min         0.000000    1000.000000\n",
       "25%         1.300000    1126.000000\n",
       "50%         6.000000    1260.000000\n",
       "75%        10.700000    1379.000000\n",
       "max        38.000000    1499.000000"
      ]
     },
     "execution_count": 9,
     "metadata": {},
     "output_type": "execute_result"
    }
   ],
   "source": [
    "# Изучаю данные методом describe()\n",
    "print('Описание таблицы calls')\n",
    "calls.describe()"
   ]
  },
  {
   "cell_type": "code",
   "execution_count": 10,
   "metadata": {},
   "outputs": [
    {
     "name": "stdout",
     "output_type": "stream",
     "text": [
      "Описание таблицы internet\n"
     ]
    },
    {
     "data": {
      "text/html": [
       "<div>\n",
       "<style scoped>\n",
       "    .dataframe tbody tr th:only-of-type {\n",
       "        vertical-align: middle;\n",
       "    }\n",
       "\n",
       "    .dataframe tbody tr th {\n",
       "        vertical-align: top;\n",
       "    }\n",
       "\n",
       "    .dataframe thead th {\n",
       "        text-align: right;\n",
       "    }\n",
       "</style>\n",
       "<table border=\"1\" class=\"dataframe\">\n",
       "  <thead>\n",
       "    <tr style=\"text-align: right;\">\n",
       "      <th></th>\n",
       "      <th>Unnamed: 0</th>\n",
       "      <th>mb_used</th>\n",
       "      <th>user_id</th>\n",
       "    </tr>\n",
       "  </thead>\n",
       "  <tbody>\n",
       "    <tr>\n",
       "      <th>count</th>\n",
       "      <td>149396.000000</td>\n",
       "      <td>149396.000000</td>\n",
       "      <td>149396.000000</td>\n",
       "    </tr>\n",
       "    <tr>\n",
       "      <th>mean</th>\n",
       "      <td>74697.500000</td>\n",
       "      <td>370.192426</td>\n",
       "      <td>1252.099842</td>\n",
       "    </tr>\n",
       "    <tr>\n",
       "      <th>std</th>\n",
       "      <td>43127.054745</td>\n",
       "      <td>278.300951</td>\n",
       "      <td>144.050823</td>\n",
       "    </tr>\n",
       "    <tr>\n",
       "      <th>min</th>\n",
       "      <td>0.000000</td>\n",
       "      <td>0.000000</td>\n",
       "      <td>1000.000000</td>\n",
       "    </tr>\n",
       "    <tr>\n",
       "      <th>25%</th>\n",
       "      <td>37348.750000</td>\n",
       "      <td>138.187500</td>\n",
       "      <td>1130.000000</td>\n",
       "    </tr>\n",
       "    <tr>\n",
       "      <th>50%</th>\n",
       "      <td>74697.500000</td>\n",
       "      <td>348.015000</td>\n",
       "      <td>1251.000000</td>\n",
       "    </tr>\n",
       "    <tr>\n",
       "      <th>75%</th>\n",
       "      <td>112046.250000</td>\n",
       "      <td>559.552500</td>\n",
       "      <td>1380.000000</td>\n",
       "    </tr>\n",
       "    <tr>\n",
       "      <th>max</th>\n",
       "      <td>149395.000000</td>\n",
       "      <td>1724.830000</td>\n",
       "      <td>1499.000000</td>\n",
       "    </tr>\n",
       "  </tbody>\n",
       "</table>\n",
       "</div>"
      ],
      "text/plain": [
       "          Unnamed: 0        mb_used        user_id\n",
       "count  149396.000000  149396.000000  149396.000000\n",
       "mean    74697.500000     370.192426    1252.099842\n",
       "std     43127.054745     278.300951     144.050823\n",
       "min         0.000000       0.000000    1000.000000\n",
       "25%     37348.750000     138.187500    1130.000000\n",
       "50%     74697.500000     348.015000    1251.000000\n",
       "75%    112046.250000     559.552500    1380.000000\n",
       "max    149395.000000    1724.830000    1499.000000"
      ]
     },
     "execution_count": 10,
     "metadata": {},
     "output_type": "execute_result"
    }
   ],
   "source": [
    "print('Описание таблицы internet')\n",
    "internet.describe()"
   ]
  },
  {
   "cell_type": "code",
   "execution_count": 11,
   "metadata": {},
   "outputs": [
    {
     "name": "stdout",
     "output_type": "stream",
     "text": [
      "Описание таблицы users\n"
     ]
    },
    {
     "data": {
      "text/html": [
       "<div>\n",
       "<style scoped>\n",
       "    .dataframe tbody tr th:only-of-type {\n",
       "        vertical-align: middle;\n",
       "    }\n",
       "\n",
       "    .dataframe tbody tr th {\n",
       "        vertical-align: top;\n",
       "    }\n",
       "\n",
       "    .dataframe thead th {\n",
       "        text-align: right;\n",
       "    }\n",
       "</style>\n",
       "<table border=\"1\" class=\"dataframe\">\n",
       "  <thead>\n",
       "    <tr style=\"text-align: right;\">\n",
       "      <th></th>\n",
       "      <th>user_id</th>\n",
       "      <th>age</th>\n",
       "    </tr>\n",
       "  </thead>\n",
       "  <tbody>\n",
       "    <tr>\n",
       "      <th>count</th>\n",
       "      <td>500.000000</td>\n",
       "      <td>500.00000</td>\n",
       "    </tr>\n",
       "    <tr>\n",
       "      <th>mean</th>\n",
       "      <td>1249.500000</td>\n",
       "      <td>46.58800</td>\n",
       "    </tr>\n",
       "    <tr>\n",
       "      <th>std</th>\n",
       "      <td>144.481833</td>\n",
       "      <td>16.66763</td>\n",
       "    </tr>\n",
       "    <tr>\n",
       "      <th>min</th>\n",
       "      <td>1000.000000</td>\n",
       "      <td>18.00000</td>\n",
       "    </tr>\n",
       "    <tr>\n",
       "      <th>25%</th>\n",
       "      <td>1124.750000</td>\n",
       "      <td>32.00000</td>\n",
       "    </tr>\n",
       "    <tr>\n",
       "      <th>50%</th>\n",
       "      <td>1249.500000</td>\n",
       "      <td>46.00000</td>\n",
       "    </tr>\n",
       "    <tr>\n",
       "      <th>75%</th>\n",
       "      <td>1374.250000</td>\n",
       "      <td>62.00000</td>\n",
       "    </tr>\n",
       "    <tr>\n",
       "      <th>max</th>\n",
       "      <td>1499.000000</td>\n",
       "      <td>75.00000</td>\n",
       "    </tr>\n",
       "  </tbody>\n",
       "</table>\n",
       "</div>"
      ],
      "text/plain": [
       "           user_id        age\n",
       "count   500.000000  500.00000\n",
       "mean   1249.500000   46.58800\n",
       "std     144.481833   16.66763\n",
       "min    1000.000000   18.00000\n",
       "25%    1124.750000   32.00000\n",
       "50%    1249.500000   46.00000\n",
       "75%    1374.250000   62.00000\n",
       "max    1499.000000   75.00000"
      ]
     },
     "execution_count": 11,
     "metadata": {},
     "output_type": "execute_result"
    }
   ],
   "source": [
    "print('Описание таблицы users')\n",
    "users.describe()"
   ]
  },
  {
   "cell_type": "markdown",
   "metadata": {},
   "source": [
    "### Вывод"
   ]
  },
  {
   "cell_type": "markdown",
   "metadata": {},
   "source": [
    "Данные в таблицах calls, internet, messages, tariffs. полные, дубликатов нет.\n",
    "В таблице internet присутствует столбец Unnamed, дублирующий индексы. Не информативный, можно удалить. \n",
    "В таблице users дубликатов нет. Пропущены данные только в колонке, содержащей дату оканчания действия тарифа. Заменять пропуски нет необходимости. В таблицах calls и internet есть строки с нулевым значением минут или Мб. Нулеые звонки - пропущенные звонки, Мб - неудачные сессии. Корректировать нулевые значения нет необходимости.\n",
    "\n",
    "Необходимо изменить тип данных столбцов, отражающих даты событий с object на datetime.\n",
    "\n",
    "Т.к. оператор всегда округляет каждый звонок вверх до целой минуты, необходимо округлить длительность каждого звонка.\n",
    "Округление потребленного трафика вверх до Гб необходимо провести после группировки данные по пользователю и месяцу, т.к. оператор округляет потребленный трафик за месяц."
   ]
  },
  {
   "cell_type": "markdown",
   "metadata": {},
   "source": [
    "## 2. Подготовка данных"
   ]
  },
  {
   "cell_type": "markdown",
   "metadata": {},
   "source": [
    "### Обработка ошибок и пропусков, замена типов данных"
   ]
  },
  {
   "cell_type": "markdown",
   "metadata": {},
   "source": [
    "Данные не содержат дубликатов и необоснованных пропусков. Имеющиеся пропуски в дате закрытия тарифа означают то, что тариф действителен на дату выгрузки. По-этому, эти пропуски не заменяются и не исключаются.\n",
    "\n",
    "\n",
    "Информация о звонках содержит строки с нулевым значением продолжительности.Это пропущенные звонки, корректировать эти значения не нужно. Есть информация о нулевом потреблении трафика - это нудачные сесии. Корректировать эти значения не нужно.\n",
    "\n",
    "Изменяю тип данных с object на datetype колонок дата звонка, дата сесси в таблицах calls и internet.\n",
    "Удаляю неинформативный столбец индекса из таблицы internet"
   ]
  },
  {
   "cell_type": "code",
   "execution_count": 12,
   "metadata": {},
   "outputs": [],
   "source": [
    "#Удаляю столбец Unnamed: 0 из таблицы internet\n",
    "internet=internet.drop('Unnamed: 0',1)"
   ]
  },
  {
   "cell_type": "code",
   "execution_count": 13,
   "metadata": {},
   "outputs": [],
   "source": [
    "# меняю типы данных для полей с датами\n",
    "calls['call_date']=calls['call_date'].astype('datetime64[ns]')\n",
    "internet['session_date']=internet['session_date'].astype('datetime64[ns]')\n",
    "messages['message_date']=messages['message_date'].astype('datetime64[ns]')"
   ]
  },
  {
   "cell_type": "markdown",
   "metadata": {},
   "source": [
    "### Объединение таблиц, округление данных"
   ]
  },
  {
   "cell_type": "code",
   "execution_count": 14,
   "metadata": {},
   "outputs": [],
   "source": [
    "# округляю данные о длительности звонков вверх до целой минуты\n",
    "calls['duration'] = np.ceil(calls['duration'])"
   ]
  },
  {
   "cell_type": "markdown",
   "metadata": {},
   "source": [
    "Для анализа информации о пользователях и  использовании минут, сообщений и трафика, необходимо создать консолиированную таблицу."
   ]
  },
  {
   "cell_type": "code",
   "execution_count": 15,
   "metadata": {},
   "outputs": [],
   "source": [
    "#Добавляю колонки Месяц в таблицу звонки\n",
    "calls['month']=calls['call_date'].dt.month\n",
    "internet['month']=internet['session_date'].dt.month\n",
    "# группирую данные по месяцам и пользователям\n",
    "calls_pivot=calls.pivot_table(index=['user_id', 'month'], aggfunc='sum')\n",
    "calls_pivot['month']=calls_pivot.index.get_level_values(1)\n",
    "internet_pivot=internet.pivot_table(index=['user_id', 'month'], aggfunc='sum')\n",
    "internet_pivot['month']=internet_pivot.index.get_level_values(1)\n",
    "internet_pivot['user_id']=internet_pivot.index.get_level_values(0)\n",
    "internet_pivot=internet_pivot.reset_index(drop=True)"
   ]
  },
  {
   "cell_type": "code",
   "execution_count": 16,
   "metadata": {},
   "outputs": [],
   "source": [
    "# добовляю колонку Месяц в таблицу сообщений\n",
    "messages['month']=messages['message_date'].dt.month\n",
    "#группирую информацию о сообщениях по пользователям и месяцам\n",
    "messages_pivot=messages.pivot_table(index=['user_id', 'month'],values='id', aggfunc='count')\n",
    "messages_pivot=messages_pivot.rename(columns={\"id\": \"messages\"})\n",
    "messages_pivot['month']=messages_pivot.index.get_level_values(1)\n",
    "messages_pivot['user_id']=messages_pivot.index.get_level_values(0)\n",
    "messages_pivot=messages_pivot.reset_index(drop=True)\n"
   ]
  },
  {
   "cell_type": "code",
   "execution_count": 17,
   "metadata": {
    "scrolled": false
   },
   "outputs": [
    {
     "data": {
      "text/html": [
       "<div>\n",
       "<style scoped>\n",
       "    .dataframe tbody tr th:only-of-type {\n",
       "        vertical-align: middle;\n",
       "    }\n",
       "\n",
       "    .dataframe tbody tr th {\n",
       "        vertical-align: top;\n",
       "    }\n",
       "\n",
       "    .dataframe thead th {\n",
       "        text-align: right;\n",
       "    }\n",
       "</style>\n",
       "<table border=\"1\" class=\"dataframe\">\n",
       "  <thead>\n",
       "    <tr style=\"text-align: right;\">\n",
       "      <th></th>\n",
       "      <th>user_id</th>\n",
       "      <th>age</th>\n",
       "      <th>churn_date</th>\n",
       "      <th>city</th>\n",
       "      <th>first_name</th>\n",
       "      <th>last_name</th>\n",
       "      <th>reg_date</th>\n",
       "      <th>tariff</th>\n",
       "      <th>duration</th>\n",
       "      <th>month</th>\n",
       "      <th>mb_used</th>\n",
       "      <th>messages</th>\n",
       "      <th>gb_round</th>\n",
       "    </tr>\n",
       "  </thead>\n",
       "  <tbody>\n",
       "    <tr>\n",
       "      <th>0</th>\n",
       "      <td>1000</td>\n",
       "      <td>52.0</td>\n",
       "      <td>NaN</td>\n",
       "      <td>Краснодар</td>\n",
       "      <td>Рафаил</td>\n",
       "      <td>Верещагин</td>\n",
       "      <td>2018-05-25</td>\n",
       "      <td>ultra</td>\n",
       "      <td>159.0</td>\n",
       "      <td>5.0</td>\n",
       "      <td>2253.49</td>\n",
       "      <td>22.0</td>\n",
       "      <td>3.0</td>\n",
       "    </tr>\n",
       "    <tr>\n",
       "      <th>1</th>\n",
       "      <td>1000</td>\n",
       "      <td>52.0</td>\n",
       "      <td>NaN</td>\n",
       "      <td>Краснодар</td>\n",
       "      <td>Рафаил</td>\n",
       "      <td>Верещагин</td>\n",
       "      <td>2018-05-25</td>\n",
       "      <td>ultra</td>\n",
       "      <td>172.0</td>\n",
       "      <td>6.0</td>\n",
       "      <td>23233.77</td>\n",
       "      <td>60.0</td>\n",
       "      <td>23.0</td>\n",
       "    </tr>\n",
       "    <tr>\n",
       "      <th>2</th>\n",
       "      <td>1000</td>\n",
       "      <td>52.0</td>\n",
       "      <td>NaN</td>\n",
       "      <td>Краснодар</td>\n",
       "      <td>Рафаил</td>\n",
       "      <td>Верещагин</td>\n",
       "      <td>2018-05-25</td>\n",
       "      <td>ultra</td>\n",
       "      <td>340.0</td>\n",
       "      <td>7.0</td>\n",
       "      <td>14003.64</td>\n",
       "      <td>75.0</td>\n",
       "      <td>14.0</td>\n",
       "    </tr>\n",
       "    <tr>\n",
       "      <th>3</th>\n",
       "      <td>1000</td>\n",
       "      <td>52.0</td>\n",
       "      <td>NaN</td>\n",
       "      <td>Краснодар</td>\n",
       "      <td>Рафаил</td>\n",
       "      <td>Верещагин</td>\n",
       "      <td>2018-05-25</td>\n",
       "      <td>ultra</td>\n",
       "      <td>408.0</td>\n",
       "      <td>8.0</td>\n",
       "      <td>14055.93</td>\n",
       "      <td>81.0</td>\n",
       "      <td>14.0</td>\n",
       "    </tr>\n",
       "    <tr>\n",
       "      <th>4</th>\n",
       "      <td>1000</td>\n",
       "      <td>52.0</td>\n",
       "      <td>NaN</td>\n",
       "      <td>Краснодар</td>\n",
       "      <td>Рафаил</td>\n",
       "      <td>Верещагин</td>\n",
       "      <td>2018-05-25</td>\n",
       "      <td>ultra</td>\n",
       "      <td>466.0</td>\n",
       "      <td>9.0</td>\n",
       "      <td>14568.91</td>\n",
       "      <td>57.0</td>\n",
       "      <td>15.0</td>\n",
       "    </tr>\n",
       "  </tbody>\n",
       "</table>\n",
       "</div>"
      ],
      "text/plain": [
       "   user_id   age churn_date       city first_name  last_name    reg_date  \\\n",
       "0     1000  52.0        NaN  Краснодар     Рафаил  Верещагин  2018-05-25   \n",
       "1     1000  52.0        NaN  Краснодар     Рафаил  Верещагин  2018-05-25   \n",
       "2     1000  52.0        NaN  Краснодар     Рафаил  Верещагин  2018-05-25   \n",
       "3     1000  52.0        NaN  Краснодар     Рафаил  Верещагин  2018-05-25   \n",
       "4     1000  52.0        NaN  Краснодар     Рафаил  Верещагин  2018-05-25   \n",
       "\n",
       "  tariff  duration  month   mb_used  messages  gb_round  \n",
       "0  ultra     159.0    5.0   2253.49      22.0       3.0  \n",
       "1  ultra     172.0    6.0  23233.77      60.0      23.0  \n",
       "2  ultra     340.0    7.0  14003.64      75.0      14.0  \n",
       "3  ultra     408.0    8.0  14055.93      81.0      14.0  \n",
       "4  ultra     466.0    9.0  14568.91      57.0      15.0  "
      ]
     },
     "execution_count": 17,
     "metadata": {},
     "output_type": "execute_result"
    }
   ],
   "source": [
    "# объединяю данные о звонках, сообщениях и трафике\n",
    "data=users.merge(calls_pivot, on=['user_id'], how='left')\n",
    "data=data.merge(internet_pivot, on=['user_id', 'month'], how='outer')\n",
    "data=data.merge(messages_pivot, on=['user_id', 'month'], how='outer')\n",
    "data['gb_round'] = np.ceil((data['mb_used']/1024))\n",
    "data.head()\n"
   ]
  },
  {
   "cell_type": "code",
   "execution_count": 18,
   "metadata": {},
   "outputs": [
    {
     "data": {
      "text/plain": [
       "user_id          0\n",
       "age             40\n",
       "churn_date    3033\n",
       "city            40\n",
       "first_name      40\n",
       "last_name       40\n",
       "reg_date        40\n",
       "tariff          40\n",
       "duration        48\n",
       "month            8\n",
       "mb_used         19\n",
       "messages       505\n",
       "gb_round        19\n",
       "dtype: int64"
      ]
     },
     "execution_count": 18,
     "metadata": {},
     "output_type": "execute_result"
    }
   ],
   "source": [
    "#определяю наличие пустых значений\n",
    "data.isna().sum()"
   ]
  },
  {
   "cell_type": "markdown",
   "metadata": {},
   "source": [
    "Пропуски в значениях потребленного трафика и отправленных сообщений говорит об их отсутствии для соответствующего пользователя в соответствующий месяц. Поэтому пустые значения заменяю на 0.\n",
    "Среди информации о звонках есть 40 записей, у которых нет данных о пользователе. Т.к. это не большое количество, удаляю эти строки."
   ]
  },
  {
   "cell_type": "code",
   "execution_count": 19,
   "metadata": {},
   "outputs": [],
   "source": [
    "#удаляю записи\n",
    "data=data[data['tariff'].isna()==False]\n"
   ]
  },
  {
   "cell_type": "code",
   "execution_count": 20,
   "metadata": {},
   "outputs": [],
   "source": [
    "#Замена пустых значений на 0\n",
    "data['duration']=data['duration'].fillna(0)\n",
    "data['gb_round']=data['gb_round'].fillna(0)\n",
    "data['messages']=data['messages'].fillna(0)"
   ]
  },
  {
   "cell_type": "code",
   "execution_count": 21,
   "metadata": {
    "scrolled": false
   },
   "outputs": [
    {
     "data": {
      "text/html": [
       "<div>\n",
       "<style scoped>\n",
       "    .dataframe tbody tr th:only-of-type {\n",
       "        vertical-align: middle;\n",
       "    }\n",
       "\n",
       "    .dataframe tbody tr th {\n",
       "        vertical-align: top;\n",
       "    }\n",
       "\n",
       "    .dataframe thead th {\n",
       "        text-align: right;\n",
       "    }\n",
       "</style>\n",
       "<table border=\"1\" class=\"dataframe\">\n",
       "  <thead>\n",
       "    <tr style=\"text-align: right;\">\n",
       "      <th></th>\n",
       "      <th>user_id</th>\n",
       "      <th>age</th>\n",
       "      <th>churn_date</th>\n",
       "      <th>city</th>\n",
       "      <th>first_name</th>\n",
       "      <th>last_name</th>\n",
       "      <th>reg_date</th>\n",
       "      <th>tariff</th>\n",
       "      <th>duration</th>\n",
       "      <th>month</th>\n",
       "      <th>messages</th>\n",
       "      <th>gb_round</th>\n",
       "    </tr>\n",
       "  </thead>\n",
       "  <tbody>\n",
       "    <tr>\n",
       "      <th>0</th>\n",
       "      <td>1000</td>\n",
       "      <td>52.0</td>\n",
       "      <td>NaN</td>\n",
       "      <td>Краснодар</td>\n",
       "      <td>Рафаил</td>\n",
       "      <td>Верещагин</td>\n",
       "      <td>2018-05-25</td>\n",
       "      <td>ultra</td>\n",
       "      <td>159.0</td>\n",
       "      <td>5.0</td>\n",
       "      <td>22.0</td>\n",
       "      <td>3.0</td>\n",
       "    </tr>\n",
       "    <tr>\n",
       "      <th>1</th>\n",
       "      <td>1000</td>\n",
       "      <td>52.0</td>\n",
       "      <td>NaN</td>\n",
       "      <td>Краснодар</td>\n",
       "      <td>Рафаил</td>\n",
       "      <td>Верещагин</td>\n",
       "      <td>2018-05-25</td>\n",
       "      <td>ultra</td>\n",
       "      <td>172.0</td>\n",
       "      <td>6.0</td>\n",
       "      <td>60.0</td>\n",
       "      <td>23.0</td>\n",
       "    </tr>\n",
       "    <tr>\n",
       "      <th>2</th>\n",
       "      <td>1000</td>\n",
       "      <td>52.0</td>\n",
       "      <td>NaN</td>\n",
       "      <td>Краснодар</td>\n",
       "      <td>Рафаил</td>\n",
       "      <td>Верещагин</td>\n",
       "      <td>2018-05-25</td>\n",
       "      <td>ultra</td>\n",
       "      <td>340.0</td>\n",
       "      <td>7.0</td>\n",
       "      <td>75.0</td>\n",
       "      <td>14.0</td>\n",
       "    </tr>\n",
       "    <tr>\n",
       "      <th>3</th>\n",
       "      <td>1000</td>\n",
       "      <td>52.0</td>\n",
       "      <td>NaN</td>\n",
       "      <td>Краснодар</td>\n",
       "      <td>Рафаил</td>\n",
       "      <td>Верещагин</td>\n",
       "      <td>2018-05-25</td>\n",
       "      <td>ultra</td>\n",
       "      <td>408.0</td>\n",
       "      <td>8.0</td>\n",
       "      <td>81.0</td>\n",
       "      <td>14.0</td>\n",
       "    </tr>\n",
       "    <tr>\n",
       "      <th>4</th>\n",
       "      <td>1000</td>\n",
       "      <td>52.0</td>\n",
       "      <td>NaN</td>\n",
       "      <td>Краснодар</td>\n",
       "      <td>Рафаил</td>\n",
       "      <td>Верещагин</td>\n",
       "      <td>2018-05-25</td>\n",
       "      <td>ultra</td>\n",
       "      <td>466.0</td>\n",
       "      <td>9.0</td>\n",
       "      <td>57.0</td>\n",
       "      <td>15.0</td>\n",
       "    </tr>\n",
       "  </tbody>\n",
       "</table>\n",
       "</div>"
      ],
      "text/plain": [
       "   user_id   age churn_date       city first_name  last_name    reg_date  \\\n",
       "0     1000  52.0        NaN  Краснодар     Рафаил  Верещагин  2018-05-25   \n",
       "1     1000  52.0        NaN  Краснодар     Рафаил  Верещагин  2018-05-25   \n",
       "2     1000  52.0        NaN  Краснодар     Рафаил  Верещагин  2018-05-25   \n",
       "3     1000  52.0        NaN  Краснодар     Рафаил  Верещагин  2018-05-25   \n",
       "4     1000  52.0        NaN  Краснодар     Рафаил  Верещагин  2018-05-25   \n",
       "\n",
       "  tariff  duration  month  messages  gb_round  \n",
       "0  ultra     159.0    5.0      22.0       3.0  \n",
       "1  ultra     172.0    6.0      60.0      23.0  \n",
       "2  ultra     340.0    7.0      75.0      14.0  \n",
       "3  ultra     408.0    8.0      81.0      14.0  \n",
       "4  ultra     466.0    9.0      57.0      15.0  "
      ]
     },
     "execution_count": 21,
     "metadata": {},
     "output_type": "execute_result"
    }
   ],
   "source": [
    "#удаляю ненужные столбцы из data\n",
    "data=data.drop(['mb_used'],1) \n",
    "data.head()"
   ]
  },
  {
   "cell_type": "markdown",
   "metadata": {},
   "source": [
    "### Расчет дополнительных показателей"
   ]
  },
  {
   "cell_type": "code",
   "execution_count": 22,
   "metadata": {},
   "outputs": [
    {
     "data": {
      "text/html": [
       "<div>\n",
       "<style scoped>\n",
       "    .dataframe tbody tr th:only-of-type {\n",
       "        vertical-align: middle;\n",
       "    }\n",
       "\n",
       "    .dataframe tbody tr th {\n",
       "        vertical-align: top;\n",
       "    }\n",
       "\n",
       "    .dataframe thead th {\n",
       "        text-align: right;\n",
       "    }\n",
       "</style>\n",
       "<table border=\"1\" class=\"dataframe\">\n",
       "  <thead>\n",
       "    <tr style=\"text-align: right;\">\n",
       "      <th></th>\n",
       "      <th>user_id</th>\n",
       "      <th>age</th>\n",
       "      <th>churn_date</th>\n",
       "      <th>city</th>\n",
       "      <th>first_name</th>\n",
       "      <th>last_name</th>\n",
       "      <th>reg_date</th>\n",
       "      <th>tariff</th>\n",
       "      <th>duration</th>\n",
       "      <th>month</th>\n",
       "      <th>messages</th>\n",
       "      <th>gb_round</th>\n",
       "      <th>messages_included</th>\n",
       "      <th>mb_per_month_included</th>\n",
       "      <th>minutes_included</th>\n",
       "      <th>rub_monthly_fee</th>\n",
       "      <th>rub_per_gb</th>\n",
       "      <th>rub_per_message</th>\n",
       "      <th>rub_per_minute</th>\n",
       "      <th>tariff_name</th>\n",
       "    </tr>\n",
       "  </thead>\n",
       "  <tbody>\n",
       "    <tr>\n",
       "      <th>0</th>\n",
       "      <td>1000</td>\n",
       "      <td>52.0</td>\n",
       "      <td>NaN</td>\n",
       "      <td>Краснодар</td>\n",
       "      <td>Рафаил</td>\n",
       "      <td>Верещагин</td>\n",
       "      <td>2018-05-25</td>\n",
       "      <td>ultra</td>\n",
       "      <td>159.0</td>\n",
       "      <td>5.0</td>\n",
       "      <td>22.0</td>\n",
       "      <td>3.0</td>\n",
       "      <td>1000</td>\n",
       "      <td>30720</td>\n",
       "      <td>3000</td>\n",
       "      <td>1950</td>\n",
       "      <td>150</td>\n",
       "      <td>1</td>\n",
       "      <td>1</td>\n",
       "      <td>ultra</td>\n",
       "    </tr>\n",
       "    <tr>\n",
       "      <th>1</th>\n",
       "      <td>1000</td>\n",
       "      <td>52.0</td>\n",
       "      <td>NaN</td>\n",
       "      <td>Краснодар</td>\n",
       "      <td>Рафаил</td>\n",
       "      <td>Верещагин</td>\n",
       "      <td>2018-05-25</td>\n",
       "      <td>ultra</td>\n",
       "      <td>172.0</td>\n",
       "      <td>6.0</td>\n",
       "      <td>60.0</td>\n",
       "      <td>23.0</td>\n",
       "      <td>1000</td>\n",
       "      <td>30720</td>\n",
       "      <td>3000</td>\n",
       "      <td>1950</td>\n",
       "      <td>150</td>\n",
       "      <td>1</td>\n",
       "      <td>1</td>\n",
       "      <td>ultra</td>\n",
       "    </tr>\n",
       "    <tr>\n",
       "      <th>2</th>\n",
       "      <td>1000</td>\n",
       "      <td>52.0</td>\n",
       "      <td>NaN</td>\n",
       "      <td>Краснодар</td>\n",
       "      <td>Рафаил</td>\n",
       "      <td>Верещагин</td>\n",
       "      <td>2018-05-25</td>\n",
       "      <td>ultra</td>\n",
       "      <td>340.0</td>\n",
       "      <td>7.0</td>\n",
       "      <td>75.0</td>\n",
       "      <td>14.0</td>\n",
       "      <td>1000</td>\n",
       "      <td>30720</td>\n",
       "      <td>3000</td>\n",
       "      <td>1950</td>\n",
       "      <td>150</td>\n",
       "      <td>1</td>\n",
       "      <td>1</td>\n",
       "      <td>ultra</td>\n",
       "    </tr>\n",
       "    <tr>\n",
       "      <th>3</th>\n",
       "      <td>1000</td>\n",
       "      <td>52.0</td>\n",
       "      <td>NaN</td>\n",
       "      <td>Краснодар</td>\n",
       "      <td>Рафаил</td>\n",
       "      <td>Верещагин</td>\n",
       "      <td>2018-05-25</td>\n",
       "      <td>ultra</td>\n",
       "      <td>408.0</td>\n",
       "      <td>8.0</td>\n",
       "      <td>81.0</td>\n",
       "      <td>14.0</td>\n",
       "      <td>1000</td>\n",
       "      <td>30720</td>\n",
       "      <td>3000</td>\n",
       "      <td>1950</td>\n",
       "      <td>150</td>\n",
       "      <td>1</td>\n",
       "      <td>1</td>\n",
       "      <td>ultra</td>\n",
       "    </tr>\n",
       "    <tr>\n",
       "      <th>4</th>\n",
       "      <td>1000</td>\n",
       "      <td>52.0</td>\n",
       "      <td>NaN</td>\n",
       "      <td>Краснодар</td>\n",
       "      <td>Рафаил</td>\n",
       "      <td>Верещагин</td>\n",
       "      <td>2018-05-25</td>\n",
       "      <td>ultra</td>\n",
       "      <td>466.0</td>\n",
       "      <td>9.0</td>\n",
       "      <td>57.0</td>\n",
       "      <td>15.0</td>\n",
       "      <td>1000</td>\n",
       "      <td>30720</td>\n",
       "      <td>3000</td>\n",
       "      <td>1950</td>\n",
       "      <td>150</td>\n",
       "      <td>1</td>\n",
       "      <td>1</td>\n",
       "      <td>ultra</td>\n",
       "    </tr>\n",
       "  </tbody>\n",
       "</table>\n",
       "</div>"
      ],
      "text/plain": [
       "   user_id   age churn_date       city first_name  last_name    reg_date  \\\n",
       "0     1000  52.0        NaN  Краснодар     Рафаил  Верещагин  2018-05-25   \n",
       "1     1000  52.0        NaN  Краснодар     Рафаил  Верещагин  2018-05-25   \n",
       "2     1000  52.0        NaN  Краснодар     Рафаил  Верещагин  2018-05-25   \n",
       "3     1000  52.0        NaN  Краснодар     Рафаил  Верещагин  2018-05-25   \n",
       "4     1000  52.0        NaN  Краснодар     Рафаил  Верещагин  2018-05-25   \n",
       "\n",
       "  tariff  duration  month  messages  gb_round  messages_included  \\\n",
       "0  ultra     159.0    5.0      22.0       3.0               1000   \n",
       "1  ultra     172.0    6.0      60.0      23.0               1000   \n",
       "2  ultra     340.0    7.0      75.0      14.0               1000   \n",
       "3  ultra     408.0    8.0      81.0      14.0               1000   \n",
       "4  ultra     466.0    9.0      57.0      15.0               1000   \n",
       "\n",
       "   mb_per_month_included  minutes_included  rub_monthly_fee  rub_per_gb  \\\n",
       "0                  30720              3000             1950         150   \n",
       "1                  30720              3000             1950         150   \n",
       "2                  30720              3000             1950         150   \n",
       "3                  30720              3000             1950         150   \n",
       "4                  30720              3000             1950         150   \n",
       "\n",
       "   rub_per_message  rub_per_minute tariff_name  \n",
       "0                1               1       ultra  \n",
       "1                1               1       ultra  \n",
       "2                1               1       ultra  \n",
       "3                1               1       ultra  \n",
       "4                1               1       ultra  "
      ]
     },
     "execution_count": 22,
     "metadata": {},
     "output_type": "execute_result"
    }
   ],
   "source": [
    "# Добавляю информацию о параметрах тарифов\n",
    "data=data.merge(tariffs, right_on='tariff_name', left_on='tariff', how='outer')\n",
    "data.head()"
   ]
  },
  {
   "cell_type": "code",
   "execution_count": 23,
   "metadata": {},
   "outputs": [
    {
     "data": {
      "text/html": [
       "<div>\n",
       "<style scoped>\n",
       "    .dataframe tbody tr th:only-of-type {\n",
       "        vertical-align: middle;\n",
       "    }\n",
       "\n",
       "    .dataframe tbody tr th {\n",
       "        vertical-align: top;\n",
       "    }\n",
       "\n",
       "    .dataframe thead th {\n",
       "        text-align: right;\n",
       "    }\n",
       "</style>\n",
       "<table border=\"1\" class=\"dataframe\">\n",
       "  <thead>\n",
       "    <tr style=\"text-align: right;\">\n",
       "      <th></th>\n",
       "      <th>user_id</th>\n",
       "      <th>age</th>\n",
       "      <th>churn_date</th>\n",
       "      <th>city</th>\n",
       "      <th>first_name</th>\n",
       "      <th>last_name</th>\n",
       "      <th>reg_date</th>\n",
       "      <th>tariff</th>\n",
       "      <th>duration</th>\n",
       "      <th>month</th>\n",
       "      <th>...</th>\n",
       "      <th>gb_round</th>\n",
       "      <th>messages_included</th>\n",
       "      <th>mb_per_month_included</th>\n",
       "      <th>minutes_included</th>\n",
       "      <th>rub_monthly_fee</th>\n",
       "      <th>rub_per_gb</th>\n",
       "      <th>rub_per_message</th>\n",
       "      <th>rub_per_minute</th>\n",
       "      <th>tariff_name</th>\n",
       "      <th>profit</th>\n",
       "    </tr>\n",
       "  </thead>\n",
       "  <tbody>\n",
       "    <tr>\n",
       "      <th>0</th>\n",
       "      <td>1000</td>\n",
       "      <td>52.0</td>\n",
       "      <td>NaN</td>\n",
       "      <td>Краснодар</td>\n",
       "      <td>Рафаил</td>\n",
       "      <td>Верещагин</td>\n",
       "      <td>2018-05-25</td>\n",
       "      <td>ultra</td>\n",
       "      <td>159.0</td>\n",
       "      <td>5.0</td>\n",
       "      <td>...</td>\n",
       "      <td>3.0</td>\n",
       "      <td>1000</td>\n",
       "      <td>30720</td>\n",
       "      <td>3000</td>\n",
       "      <td>1950</td>\n",
       "      <td>150</td>\n",
       "      <td>1</td>\n",
       "      <td>1</td>\n",
       "      <td>ultra</td>\n",
       "      <td>1950.0</td>\n",
       "    </tr>\n",
       "    <tr>\n",
       "      <th>1</th>\n",
       "      <td>1000</td>\n",
       "      <td>52.0</td>\n",
       "      <td>NaN</td>\n",
       "      <td>Краснодар</td>\n",
       "      <td>Рафаил</td>\n",
       "      <td>Верещагин</td>\n",
       "      <td>2018-05-25</td>\n",
       "      <td>ultra</td>\n",
       "      <td>172.0</td>\n",
       "      <td>6.0</td>\n",
       "      <td>...</td>\n",
       "      <td>23.0</td>\n",
       "      <td>1000</td>\n",
       "      <td>30720</td>\n",
       "      <td>3000</td>\n",
       "      <td>1950</td>\n",
       "      <td>150</td>\n",
       "      <td>1</td>\n",
       "      <td>1</td>\n",
       "      <td>ultra</td>\n",
       "      <td>1950.0</td>\n",
       "    </tr>\n",
       "    <tr>\n",
       "      <th>2</th>\n",
       "      <td>1000</td>\n",
       "      <td>52.0</td>\n",
       "      <td>NaN</td>\n",
       "      <td>Краснодар</td>\n",
       "      <td>Рафаил</td>\n",
       "      <td>Верещагин</td>\n",
       "      <td>2018-05-25</td>\n",
       "      <td>ultra</td>\n",
       "      <td>340.0</td>\n",
       "      <td>7.0</td>\n",
       "      <td>...</td>\n",
       "      <td>14.0</td>\n",
       "      <td>1000</td>\n",
       "      <td>30720</td>\n",
       "      <td>3000</td>\n",
       "      <td>1950</td>\n",
       "      <td>150</td>\n",
       "      <td>1</td>\n",
       "      <td>1</td>\n",
       "      <td>ultra</td>\n",
       "      <td>1950.0</td>\n",
       "    </tr>\n",
       "    <tr>\n",
       "      <th>3</th>\n",
       "      <td>1000</td>\n",
       "      <td>52.0</td>\n",
       "      <td>NaN</td>\n",
       "      <td>Краснодар</td>\n",
       "      <td>Рафаил</td>\n",
       "      <td>Верещагин</td>\n",
       "      <td>2018-05-25</td>\n",
       "      <td>ultra</td>\n",
       "      <td>408.0</td>\n",
       "      <td>8.0</td>\n",
       "      <td>...</td>\n",
       "      <td>14.0</td>\n",
       "      <td>1000</td>\n",
       "      <td>30720</td>\n",
       "      <td>3000</td>\n",
       "      <td>1950</td>\n",
       "      <td>150</td>\n",
       "      <td>1</td>\n",
       "      <td>1</td>\n",
       "      <td>ultra</td>\n",
       "      <td>1950.0</td>\n",
       "    </tr>\n",
       "    <tr>\n",
       "      <th>4</th>\n",
       "      <td>1000</td>\n",
       "      <td>52.0</td>\n",
       "      <td>NaN</td>\n",
       "      <td>Краснодар</td>\n",
       "      <td>Рафаил</td>\n",
       "      <td>Верещагин</td>\n",
       "      <td>2018-05-25</td>\n",
       "      <td>ultra</td>\n",
       "      <td>466.0</td>\n",
       "      <td>9.0</td>\n",
       "      <td>...</td>\n",
       "      <td>15.0</td>\n",
       "      <td>1000</td>\n",
       "      <td>30720</td>\n",
       "      <td>3000</td>\n",
       "      <td>1950</td>\n",
       "      <td>150</td>\n",
       "      <td>1</td>\n",
       "      <td>1</td>\n",
       "      <td>ultra</td>\n",
       "      <td>1950.0</td>\n",
       "    </tr>\n",
       "  </tbody>\n",
       "</table>\n",
       "<p>5 rows × 21 columns</p>\n",
       "</div>"
      ],
      "text/plain": [
       "   user_id   age churn_date       city first_name  last_name    reg_date  \\\n",
       "0     1000  52.0        NaN  Краснодар     Рафаил  Верещагин  2018-05-25   \n",
       "1     1000  52.0        NaN  Краснодар     Рафаил  Верещагин  2018-05-25   \n",
       "2     1000  52.0        NaN  Краснодар     Рафаил  Верещагин  2018-05-25   \n",
       "3     1000  52.0        NaN  Краснодар     Рафаил  Верещагин  2018-05-25   \n",
       "4     1000  52.0        NaN  Краснодар     Рафаил  Верещагин  2018-05-25   \n",
       "\n",
       "  tariff  duration  month  ...  gb_round  messages_included  \\\n",
       "0  ultra     159.0    5.0  ...       3.0               1000   \n",
       "1  ultra     172.0    6.0  ...      23.0               1000   \n",
       "2  ultra     340.0    7.0  ...      14.0               1000   \n",
       "3  ultra     408.0    8.0  ...      14.0               1000   \n",
       "4  ultra     466.0    9.0  ...      15.0               1000   \n",
       "\n",
       "   mb_per_month_included  minutes_included  rub_monthly_fee  rub_per_gb  \\\n",
       "0                  30720              3000             1950         150   \n",
       "1                  30720              3000             1950         150   \n",
       "2                  30720              3000             1950         150   \n",
       "3                  30720              3000             1950         150   \n",
       "4                  30720              3000             1950         150   \n",
       "\n",
       "   rub_per_message  rub_per_minute  tariff_name  profit  \n",
       "0                1               1        ultra  1950.0  \n",
       "1                1               1        ultra  1950.0  \n",
       "2                1               1        ultra  1950.0  \n",
       "3                1               1        ultra  1950.0  \n",
       "4                1               1        ultra  1950.0  \n",
       "\n",
       "[5 rows x 21 columns]"
      ]
     },
     "execution_count": 23,
     "metadata": {},
     "output_type": "execute_result"
    }
   ],
   "source": [
    "#Создаю функцию, расчитывающую выручку\n",
    "\n",
    "def profit (df):\n",
    "  \n",
    "    dur_over=df['duration']-df['minutes_included']\n",
    "    gb_over=df['gb_round']-df['mb_per_month_included']/1024\n",
    "    mes_over=df['messages']-df['messages_included']\n",
    "        \n",
    "    profit=df['rub_monthly_fee']+max(dur_over, 0)*df['rub_per_minute']+max(gb_over,0)*df['rub_per_gb']+max(0,mes_over)*df['rub_per_message']\n",
    "    return profit\n",
    "    \n",
    "        \n",
    "data['profit']=data.apply(profit, axis=1)    \n",
    "data.style.format({'Profit': '{:.2f}'})\n",
    "data['profit']=data['profit'].fillna(0)\n",
    "data.head()"
   ]
  },
  {
   "cell_type": "markdown",
   "metadata": {},
   "source": [
    "### Вывод"
   ]
  },
  {
   "cell_type": "markdown",
   "metadata": {},
   "source": [
    "В рамках подготовки данных заменены типы данных столбцов, характеризующих дату событя с object на datetime, для того, чтобы в дальнейшем оперировать датами. \n",
    "Были выявлены нулевые значения в колонках длительности звонков и трафика. Это означает пропущенные звонки и неудачные сессии. Поэтому, нулевые значения были сохранены.\n",
    "В соответствии с правилами тарифа, длительность каждого звонка была округлена до целых минут в большую сторону.Ежемесячный объем трафика каждого абонента также округлен в большую стороону. \n",
    "Данные о звонках, трафике и сообщениях сгруппированы по пользователю и месяцу. После группировки возникли нулевые значения длительности звонко, трафика, сообщений. Это означает, что соответствующий абонент в соответствующий месяц не использовал одну из услуг. Пустые значения заменены на 0. Рассчитаны ежемесячные значения длительности звонков, потребленного трафика и отправленных смс. К сгруппированным данным применены правила тарифа, который используется абонентом, и расcчитана ежемесячная прибыль по каждому абоненту.\n"
   ]
  },
  {
   "cell_type": "markdown",
   "metadata": {},
   "source": [
    "## 3. Анализ данных"
   ]
  },
  {
   "cell_type": "markdown",
   "metadata": {},
   "source": [
    "### Анализ и описание данных"
   ]
  },
  {
   "cell_type": "code",
   "execution_count": 24,
   "metadata": {
    "scrolled": true
   },
   "outputs": [
    {
     "data": {
      "text/html": [
       "<div>\n",
       "<style scoped>\n",
       "    .dataframe tbody tr th:only-of-type {\n",
       "        vertical-align: middle;\n",
       "    }\n",
       "\n",
       "    .dataframe tbody tr th {\n",
       "        vertical-align: top;\n",
       "    }\n",
       "\n",
       "    .dataframe thead th {\n",
       "        text-align: right;\n",
       "    }\n",
       "</style>\n",
       "<table border=\"1\" class=\"dataframe\">\n",
       "  <thead>\n",
       "    <tr style=\"text-align: right;\">\n",
       "      <th></th>\n",
       "      <th>user_id</th>\n",
       "      <th>age</th>\n",
       "      <th>duration</th>\n",
       "      <th>month</th>\n",
       "      <th>messages</th>\n",
       "      <th>gb_round</th>\n",
       "      <th>messages_included</th>\n",
       "      <th>mb_per_month_included</th>\n",
       "      <th>minutes_included</th>\n",
       "      <th>rub_monthly_fee</th>\n",
       "      <th>rub_per_gb</th>\n",
       "      <th>rub_per_message</th>\n",
       "      <th>rub_per_minute</th>\n",
       "      <th>profit</th>\n",
       "    </tr>\n",
       "  </thead>\n",
       "  <tbody>\n",
       "    <tr>\n",
       "      <th>count</th>\n",
       "      <td>957.000000</td>\n",
       "      <td>957.000000</td>\n",
       "      <td>957.000000</td>\n",
       "      <td>951.000000</td>\n",
       "      <td>957.000000</td>\n",
       "      <td>957.000000</td>\n",
       "      <td>957.0</td>\n",
       "      <td>957.0</td>\n",
       "      <td>957.0</td>\n",
       "      <td>957.0</td>\n",
       "      <td>957.0</td>\n",
       "      <td>957.0</td>\n",
       "      <td>957.0</td>\n",
       "      <td>957.000000</td>\n",
       "    </tr>\n",
       "    <tr>\n",
       "      <th>mean</th>\n",
       "      <td>1264.524556</td>\n",
       "      <td>46.754441</td>\n",
       "      <td>542.031348</td>\n",
       "      <td>8.235542</td>\n",
       "      <td>48.726228</td>\n",
       "      <td>19.365726</td>\n",
       "      <td>1000.0</td>\n",
       "      <td>30720.0</td>\n",
       "      <td>3000.0</td>\n",
       "      <td>1950.0</td>\n",
       "      <td>150.0</td>\n",
       "      <td>1.0</td>\n",
       "      <td>1.0</td>\n",
       "      <td>2070.219436</td>\n",
       "    </tr>\n",
       "    <tr>\n",
       "      <th>std</th>\n",
       "      <td>140.429253</td>\n",
       "      <td>17.075861</td>\n",
       "      <td>308.978539</td>\n",
       "      <td>2.883937</td>\n",
       "      <td>46.903402</td>\n",
       "      <td>9.978743</td>\n",
       "      <td>0.0</td>\n",
       "      <td>0.0</td>\n",
       "      <td>0.0</td>\n",
       "      <td>0.0</td>\n",
       "      <td>0.0</td>\n",
       "      <td>0.0</td>\n",
       "      <td>0.0</td>\n",
       "      <td>378.351486</td>\n",
       "    </tr>\n",
       "    <tr>\n",
       "      <th>min</th>\n",
       "      <td>1000.000000</td>\n",
       "      <td>18.000000</td>\n",
       "      <td>0.000000</td>\n",
       "      <td>1.000000</td>\n",
       "      <td>0.000000</td>\n",
       "      <td>0.000000</td>\n",
       "      <td>1000.0</td>\n",
       "      <td>30720.0</td>\n",
       "      <td>3000.0</td>\n",
       "      <td>1950.0</td>\n",
       "      <td>150.0</td>\n",
       "      <td>1.0</td>\n",
       "      <td>1.0</td>\n",
       "      <td>1950.000000</td>\n",
       "    </tr>\n",
       "    <tr>\n",
       "      <th>25%</th>\n",
       "      <td>1148.000000</td>\n",
       "      <td>30.000000</td>\n",
       "      <td>308.000000</td>\n",
       "      <td>6.000000</td>\n",
       "      <td>5.000000</td>\n",
       "      <td>12.000000</td>\n",
       "      <td>1000.0</td>\n",
       "      <td>30720.0</td>\n",
       "      <td>3000.0</td>\n",
       "      <td>1950.0</td>\n",
       "      <td>150.0</td>\n",
       "      <td>1.0</td>\n",
       "      <td>1.0</td>\n",
       "      <td>1950.000000</td>\n",
       "    </tr>\n",
       "    <tr>\n",
       "      <th>50%</th>\n",
       "      <td>1281.000000</td>\n",
       "      <td>45.000000</td>\n",
       "      <td>525.000000</td>\n",
       "      <td>9.000000</td>\n",
       "      <td>39.000000</td>\n",
       "      <td>19.000000</td>\n",
       "      <td>1000.0</td>\n",
       "      <td>30720.0</td>\n",
       "      <td>3000.0</td>\n",
       "      <td>1950.0</td>\n",
       "      <td>150.0</td>\n",
       "      <td>1.0</td>\n",
       "      <td>1.0</td>\n",
       "      <td>1950.000000</td>\n",
       "    </tr>\n",
       "    <tr>\n",
       "      <th>75%</th>\n",
       "      <td>1381.000000</td>\n",
       "      <td>63.000000</td>\n",
       "      <td>756.000000</td>\n",
       "      <td>11.000000</td>\n",
       "      <td>79.000000</td>\n",
       "      <td>27.000000</td>\n",
       "      <td>1000.0</td>\n",
       "      <td>30720.0</td>\n",
       "      <td>3000.0</td>\n",
       "      <td>1950.0</td>\n",
       "      <td>150.0</td>\n",
       "      <td>1.0</td>\n",
       "      <td>1.0</td>\n",
       "      <td>1950.000000</td>\n",
       "    </tr>\n",
       "    <tr>\n",
       "      <th>max</th>\n",
       "      <td>1495.000000</td>\n",
       "      <td>75.000000</td>\n",
       "      <td>1673.000000</td>\n",
       "      <td>12.000000</td>\n",
       "      <td>224.000000</td>\n",
       "      <td>49.000000</td>\n",
       "      <td>1000.0</td>\n",
       "      <td>30720.0</td>\n",
       "      <td>3000.0</td>\n",
       "      <td>1950.0</td>\n",
       "      <td>150.0</td>\n",
       "      <td>1.0</td>\n",
       "      <td>1.0</td>\n",
       "      <td>4800.000000</td>\n",
       "    </tr>\n",
       "  </tbody>\n",
       "</table>\n",
       "</div>"
      ],
      "text/plain": [
       "           user_id         age     duration       month    messages  \\\n",
       "count   957.000000  957.000000   957.000000  951.000000  957.000000   \n",
       "mean   1264.524556   46.754441   542.031348    8.235542   48.726228   \n",
       "std     140.429253   17.075861   308.978539    2.883937   46.903402   \n",
       "min    1000.000000   18.000000     0.000000    1.000000    0.000000   \n",
       "25%    1148.000000   30.000000   308.000000    6.000000    5.000000   \n",
       "50%    1281.000000   45.000000   525.000000    9.000000   39.000000   \n",
       "75%    1381.000000   63.000000   756.000000   11.000000   79.000000   \n",
       "max    1495.000000   75.000000  1673.000000   12.000000  224.000000   \n",
       "\n",
       "         gb_round  messages_included  mb_per_month_included  minutes_included  \\\n",
       "count  957.000000              957.0                  957.0             957.0   \n",
       "mean    19.365726             1000.0                30720.0            3000.0   \n",
       "std      9.978743                0.0                    0.0               0.0   \n",
       "min      0.000000             1000.0                30720.0            3000.0   \n",
       "25%     12.000000             1000.0                30720.0            3000.0   \n",
       "50%     19.000000             1000.0                30720.0            3000.0   \n",
       "75%     27.000000             1000.0                30720.0            3000.0   \n",
       "max     49.000000             1000.0                30720.0            3000.0   \n",
       "\n",
       "       rub_monthly_fee  rub_per_gb  rub_per_message  rub_per_minute  \\\n",
       "count            957.0       957.0            957.0           957.0   \n",
       "mean            1950.0       150.0              1.0             1.0   \n",
       "std                0.0         0.0              0.0             0.0   \n",
       "min             1950.0       150.0              1.0             1.0   \n",
       "25%             1950.0       150.0              1.0             1.0   \n",
       "50%             1950.0       150.0              1.0             1.0   \n",
       "75%             1950.0       150.0              1.0             1.0   \n",
       "max             1950.0       150.0              1.0             1.0   \n",
       "\n",
       "            profit  \n",
       "count   957.000000  \n",
       "mean   2070.219436  \n",
       "std     378.351486  \n",
       "min    1950.000000  \n",
       "25%    1950.000000  \n",
       "50%    1950.000000  \n",
       "75%    1950.000000  \n",
       "max    4800.000000  "
      ]
     },
     "execution_count": 24,
     "metadata": {},
     "output_type": "execute_result"
    }
   ],
   "source": [
    "# формирую выборку по тарифу ultra, описываю данные\n",
    "ultra=data.query('tariff==\"ultra\"')\n",
    "ultra.describe()"
   ]
  },
  {
   "cell_type": "code",
   "execution_count": 25,
   "metadata": {},
   "outputs": [
    {
     "data": {
      "text/html": [
       "<div>\n",
       "<style scoped>\n",
       "    .dataframe tbody tr th:only-of-type {\n",
       "        vertical-align: middle;\n",
       "    }\n",
       "\n",
       "    .dataframe tbody tr th {\n",
       "        vertical-align: top;\n",
       "    }\n",
       "\n",
       "    .dataframe thead th {\n",
       "        text-align: right;\n",
       "    }\n",
       "</style>\n",
       "<table border=\"1\" class=\"dataframe\">\n",
       "  <thead>\n",
       "    <tr style=\"text-align: right;\">\n",
       "      <th></th>\n",
       "      <th>user_id</th>\n",
       "      <th>age</th>\n",
       "      <th>duration</th>\n",
       "      <th>month</th>\n",
       "      <th>messages</th>\n",
       "      <th>gb_round</th>\n",
       "      <th>messages_included</th>\n",
       "      <th>mb_per_month_included</th>\n",
       "      <th>minutes_included</th>\n",
       "      <th>rub_monthly_fee</th>\n",
       "      <th>rub_per_gb</th>\n",
       "      <th>rub_per_message</th>\n",
       "      <th>rub_per_minute</th>\n",
       "      <th>profit</th>\n",
       "    </tr>\n",
       "  </thead>\n",
       "  <tbody>\n",
       "    <tr>\n",
       "      <th>count</th>\n",
       "      <td>2225.000000</td>\n",
       "      <td>2225.000000</td>\n",
       "      <td>2225.000000</td>\n",
       "      <td>2223.000000</td>\n",
       "      <td>2225.000000</td>\n",
       "      <td>2225.000000</td>\n",
       "      <td>2225.0</td>\n",
       "      <td>2225.0</td>\n",
       "      <td>2225.0</td>\n",
       "      <td>2225.0</td>\n",
       "      <td>2225.0</td>\n",
       "      <td>2225.0</td>\n",
       "      <td>2225.0</td>\n",
       "      <td>2225.000000</td>\n",
       "    </tr>\n",
       "    <tr>\n",
       "      <th>mean</th>\n",
       "      <td>1246.069663</td>\n",
       "      <td>46.584270</td>\n",
       "      <td>418.686292</td>\n",
       "      <td>8.344130</td>\n",
       "      <td>33.366292</td>\n",
       "      <td>16.315056</td>\n",
       "      <td>50.0</td>\n",
       "      <td>15360.0</td>\n",
       "      <td>500.0</td>\n",
       "      <td>550.0</td>\n",
       "      <td>200.0</td>\n",
       "      <td>3.0</td>\n",
       "      <td>3.0</td>\n",
       "      <td>1290.225169</td>\n",
       "    </tr>\n",
       "    <tr>\n",
       "      <th>std</th>\n",
       "      <td>145.887390</td>\n",
       "      <td>16.358705</td>\n",
       "      <td>189.656900</td>\n",
       "      <td>2.922009</td>\n",
       "      <td>28.264460</td>\n",
       "      <td>5.770808</td>\n",
       "      <td>0.0</td>\n",
       "      <td>0.0</td>\n",
       "      <td>0.0</td>\n",
       "      <td>0.0</td>\n",
       "      <td>0.0</td>\n",
       "      <td>0.0</td>\n",
       "      <td>0.0</td>\n",
       "      <td>819.052589</td>\n",
       "    </tr>\n",
       "    <tr>\n",
       "      <th>min</th>\n",
       "      <td>1001.000000</td>\n",
       "      <td>18.000000</td>\n",
       "      <td>0.000000</td>\n",
       "      <td>1.000000</td>\n",
       "      <td>0.000000</td>\n",
       "      <td>0.000000</td>\n",
       "      <td>50.0</td>\n",
       "      <td>15360.0</td>\n",
       "      <td>500.0</td>\n",
       "      <td>550.0</td>\n",
       "      <td>200.0</td>\n",
       "      <td>3.0</td>\n",
       "      <td>3.0</td>\n",
       "      <td>550.000000</td>\n",
       "    </tr>\n",
       "    <tr>\n",
       "      <th>25%</th>\n",
       "      <td>1121.000000</td>\n",
       "      <td>32.000000</td>\n",
       "      <td>284.000000</td>\n",
       "      <td>6.000000</td>\n",
       "      <td>10.000000</td>\n",
       "      <td>13.000000</td>\n",
       "      <td>50.0</td>\n",
       "      <td>15360.0</td>\n",
       "      <td>500.0</td>\n",
       "      <td>550.0</td>\n",
       "      <td>200.0</td>\n",
       "      <td>3.0</td>\n",
       "      <td>3.0</td>\n",
       "      <td>550.000000</td>\n",
       "    </tr>\n",
       "    <tr>\n",
       "      <th>50%</th>\n",
       "      <td>1239.000000</td>\n",
       "      <td>47.000000</td>\n",
       "      <td>422.000000</td>\n",
       "      <td>9.000000</td>\n",
       "      <td>28.000000</td>\n",
       "      <td>17.000000</td>\n",
       "      <td>50.0</td>\n",
       "      <td>15360.0</td>\n",
       "      <td>500.0</td>\n",
       "      <td>550.0</td>\n",
       "      <td>200.0</td>\n",
       "      <td>3.0</td>\n",
       "      <td>3.0</td>\n",
       "      <td>1023.000000</td>\n",
       "    </tr>\n",
       "    <tr>\n",
       "      <th>75%</th>\n",
       "      <td>1376.000000</td>\n",
       "      <td>62.000000</td>\n",
       "      <td>545.000000</td>\n",
       "      <td>11.000000</td>\n",
       "      <td>51.000000</td>\n",
       "      <td>20.000000</td>\n",
       "      <td>50.0</td>\n",
       "      <td>15360.0</td>\n",
       "      <td>500.0</td>\n",
       "      <td>550.0</td>\n",
       "      <td>200.0</td>\n",
       "      <td>3.0</td>\n",
       "      <td>3.0</td>\n",
       "      <td>1750.000000</td>\n",
       "    </tr>\n",
       "    <tr>\n",
       "      <th>max</th>\n",
       "      <td>1499.000000</td>\n",
       "      <td>75.000000</td>\n",
       "      <td>1435.000000</td>\n",
       "      <td>12.000000</td>\n",
       "      <td>143.000000</td>\n",
       "      <td>38.000000</td>\n",
       "      <td>50.0</td>\n",
       "      <td>15360.0</td>\n",
       "      <td>500.0</td>\n",
       "      <td>550.0</td>\n",
       "      <td>200.0</td>\n",
       "      <td>3.0</td>\n",
       "      <td>3.0</td>\n",
       "      <td>6770.000000</td>\n",
       "    </tr>\n",
       "  </tbody>\n",
       "</table>\n",
       "</div>"
      ],
      "text/plain": [
       "           user_id          age     duration        month     messages  \\\n",
       "count  2225.000000  2225.000000  2225.000000  2223.000000  2225.000000   \n",
       "mean   1246.069663    46.584270   418.686292     8.344130    33.366292   \n",
       "std     145.887390    16.358705   189.656900     2.922009    28.264460   \n",
       "min    1001.000000    18.000000     0.000000     1.000000     0.000000   \n",
       "25%    1121.000000    32.000000   284.000000     6.000000    10.000000   \n",
       "50%    1239.000000    47.000000   422.000000     9.000000    28.000000   \n",
       "75%    1376.000000    62.000000   545.000000    11.000000    51.000000   \n",
       "max    1499.000000    75.000000  1435.000000    12.000000   143.000000   \n",
       "\n",
       "          gb_round  messages_included  mb_per_month_included  \\\n",
       "count  2225.000000             2225.0                 2225.0   \n",
       "mean     16.315056               50.0                15360.0   \n",
       "std       5.770808                0.0                    0.0   \n",
       "min       0.000000               50.0                15360.0   \n",
       "25%      13.000000               50.0                15360.0   \n",
       "50%      17.000000               50.0                15360.0   \n",
       "75%      20.000000               50.0                15360.0   \n",
       "max      38.000000               50.0                15360.0   \n",
       "\n",
       "       minutes_included  rub_monthly_fee  rub_per_gb  rub_per_message  \\\n",
       "count            2225.0           2225.0      2225.0           2225.0   \n",
       "mean              500.0            550.0       200.0              3.0   \n",
       "std                 0.0              0.0         0.0              0.0   \n",
       "min               500.0            550.0       200.0              3.0   \n",
       "25%               500.0            550.0       200.0              3.0   \n",
       "50%               500.0            550.0       200.0              3.0   \n",
       "75%               500.0            550.0       200.0              3.0   \n",
       "max               500.0            550.0       200.0              3.0   \n",
       "\n",
       "       rub_per_minute       profit  \n",
       "count          2225.0  2225.000000  \n",
       "mean              3.0  1290.225169  \n",
       "std               0.0   819.052589  \n",
       "min               3.0   550.000000  \n",
       "25%               3.0   550.000000  \n",
       "50%               3.0  1023.000000  \n",
       "75%               3.0  1750.000000  \n",
       "max               3.0  6770.000000  "
      ]
     },
     "execution_count": 25,
     "metadata": {},
     "output_type": "execute_result"
    }
   ],
   "source": [
    "# формирую выборку по тарифу smart, описываю данные\n",
    "smart=data.query('tariff==\"smart\"')\n",
    "smart.describe()"
   ]
  },
  {
   "cell_type": "code",
   "execution_count": 26,
   "metadata": {},
   "outputs": [
    {
     "data": {
      "text/plain": [
       "Text(0.5, 0, 'минуты')"
      ]
     },
     "execution_count": 26,
     "metadata": {},
     "output_type": "execute_result"
    },
    {
     "data": {
      "image/png": "[encoded data removed]",
      "text/plain": [
       "<Figure size 720x360 with 1 Axes>"
      ]
     },
     "metadata": {
      "needs_background": "light"
     },
     "output_type": "display_data"
    }
   ],
   "source": [
    "#построение гистограм для среднемесячной длительности звонка\n",
    "ax=smart['duration'].plot(kind='hist',bins=50, range=(0, 1400), grid=True, density=True, alpha=0.5, title='Распределение среднемесячной продолжительности звонка',  figsize=(10,5))\n",
    "ultra['duration'].plot(kind='hist',bins=50, range=(0, 1400), grid=True, density=True, alpha=0.5)\n",
    "ax.set_ylabel(\"Frequency\")\n",
    "ax.set_xlabel(\"минуты\")\n"
   ]
  },
  {
   "cell_type": "code",
   "execution_count": 27,
   "metadata": {
    "scrolled": true
   },
   "outputs": [
    {
     "data": {
      "text/plain": [
       "Text(0.5, 0, 'Гб')"
      ]
     },
     "execution_count": 27,
     "metadata": {},
     "output_type": "execute_result"
    },
    {
     "data": {
      "image/png": "[encoded data removed]",
      "text/plain": [
       "<Figure size 720x360 with 1 Axes>"
      ]
     },
     "metadata": {
      "needs_background": "light"
     },
     "output_type": "display_data"
    }
   ],
   "source": [
    "#построение гистограм для среднемесячного потребления траффика\n",
    "ax=smart['gb_round'].plot(kind='hist',bins=40, range=(0, 40), grid=True, density=True, alpha=0.5, legend=True, title='Распределение среднемесячного размера потребляемого трафика',  figsize=(10,5))\n",
    "ultra['gb_round'].plot(kind='hist',bins=40, range=(0, 40), grid=True, density=True, alpha=0.5, legend=True)\n",
    "ax.set_ylabel(\"Frequency\")\n",
    "ax.set_xlabel(\"Гб\")\n"
   ]
  },
  {
   "cell_type": "code",
   "execution_count": 28,
   "metadata": {},
   "outputs": [
    {
     "data": {
      "text/plain": [
       "Text(0.5, 0, 'кол-во')"
      ]
     },
     "execution_count": 28,
     "metadata": {},
     "output_type": "execute_result"
    },
    {
     "data": {
      "image/png": "[encoded data removed]",
      "text/plain": [
       "<Figure size 720x360 with 1 Axes>"
      ]
     },
     "metadata": {
      "needs_background": "light"
     },
     "output_type": "display_data"
    }
   ],
   "source": [
    "#построение гистограм для среднемесячного числа смс\n",
    "ax=smart['messages'].plot(kind='hist',bins=10, range=(0, 225), grid=True, density=True, alpha=0.5, title='Распределение среднемесячного кол-ва смс',  figsize=(10,5))\n",
    "ultra['messages'].plot(kind='hist',bins=10, range=(0, 225), grid=True, density=True, alpha=0.5)\n",
    "ax.set_ylabel(\"Frequency\")\n",
    "ax.set_xlabel(\"кол-во\")"
   ]
  },
  {
   "cell_type": "code",
   "execution_count": 29,
   "metadata": {},
   "outputs": [],
   "source": [
    "# определение средних значений ежемесчного потребления услуг\n",
    "smart_query_month=smart.pivot_table(index='month', values=['duration', 'gb_round', 'messages', 'profit'], aggfunc='mean')\n",
    "ultra_query_month=ultra.pivot_table(index='month', values=['duration', 'gb_round', 'messages', 'profit'], aggfunc='mean')"
   ]
  },
  {
   "cell_type": "code",
   "execution_count": 30,
   "metadata": {},
   "outputs": [
    {
     "data": {
      "text/plain": [
       "<AxesSubplot:title={'center':'Mean monthly profit'}, xlabel='month', ylabel='profit'>"
      ]
     },
     "execution_count": 30,
     "metadata": {},
     "output_type": "execute_result"
    },
    {
     "data": {
      "image/png": "[encoded data removed]",
      "text/plain": [
       "<Figure size 864x792 with 4 Axes>"
      ]
     },
     "metadata": {
      "needs_background": "light"
     },
     "output_type": "display_data"
    }
   ],
   "source": [
    "#строю график среднемесячных значений\n",
    "fig, axes = plt.subplots(2, 2, figsize=(12,11))\n",
    "\n",
    "\n",
    "sns.lineplot(data=smart_query_month, x=\"month\", y=\"duration\", ax=axes[0,0]).set(title='Mean monthly call duration')\n",
    "sns.lineplot(data=ultra_query_month, x=\"month\", y=\"duration\", ax=axes[0,0])\n",
    "\n",
    "\n",
    "sns.lineplot(data=smart_query_month, x=\"month\", y=\"gb_round\", ax=axes[0,1]).set(title='Mean monthly gb traffic')\n",
    "sns.lineplot(data=ultra_query_month, x=\"month\", y=\"gb_round\", ax=axes[0,1])\n",
    "\n",
    "sns.lineplot(data=smart_query_month, x=\"month\", y=\"messages\", ax=axes[1,0]).set(title='Mean monthly messages count')\n",
    "sns.lineplot(data=ultra_query_month, x=\"month\", y=\"messages\", ax=axes[1,0])\n",
    "\n",
    "#строю график среднемесячных значений\n",
    "sns.lineplot(data=smart_query_month, x=\"month\", y=\"profit\", ax=axes[1,1]).set(title='Mean monthly profit')\n",
    "sns.lineplot(data=ultra_query_month, x=\"month\", y=\"profit\", ax=axes[1,1])\n"
   ]
  },
  {
   "cell_type": "code",
   "execution_count": 31,
   "metadata": {},
   "outputs": [
    {
     "name": "stdout",
     "output_type": "stream",
     "text": [
      "\n",
      "Среднее знасение, стандартного отклонения и диспрерсии\n",
      "\n"
     ]
    },
    {
     "data": {
      "text/html": [
       "<div>\n",
       "<style scoped>\n",
       "    .dataframe tbody tr th:only-of-type {\n",
       "        vertical-align: middle;\n",
       "    }\n",
       "\n",
       "    .dataframe tbody tr th {\n",
       "        vertical-align: top;\n",
       "    }\n",
       "\n",
       "    .dataframe thead th {\n",
       "        text-align: right;\n",
       "    }\n",
       "</style>\n",
       "<table border=\"1\" class=\"dataframe\">\n",
       "  <thead>\n",
       "    <tr style=\"text-align: right;\">\n",
       "      <th></th>\n",
       "      <th>tariff</th>\n",
       "      <th>smart</th>\n",
       "      <th>ultra</th>\n",
       "    </tr>\n",
       "  </thead>\n",
       "  <tbody>\n",
       "    <tr>\n",
       "      <th rowspan=\"3\" valign=\"top\">duration</th>\n",
       "      <th>mean</th>\n",
       "      <td>418</td>\n",
       "      <td>542</td>\n",
       "    </tr>\n",
       "    <tr>\n",
       "      <th>std</th>\n",
       "      <td>189</td>\n",
       "      <td>308</td>\n",
       "    </tr>\n",
       "    <tr>\n",
       "      <th>var</th>\n",
       "      <td>35969</td>\n",
       "      <td>95467</td>\n",
       "    </tr>\n",
       "    <tr>\n",
       "      <th rowspan=\"3\" valign=\"top\">gb_round</th>\n",
       "      <th>mean</th>\n",
       "      <td>16</td>\n",
       "      <td>19</td>\n",
       "    </tr>\n",
       "    <tr>\n",
       "      <th>std</th>\n",
       "      <td>5</td>\n",
       "      <td>9</td>\n",
       "    </tr>\n",
       "    <tr>\n",
       "      <th>var</th>\n",
       "      <td>33</td>\n",
       "      <td>99</td>\n",
       "    </tr>\n",
       "    <tr>\n",
       "      <th rowspan=\"3\" valign=\"top\">messages</th>\n",
       "      <th>mean</th>\n",
       "      <td>33</td>\n",
       "      <td>48</td>\n",
       "    </tr>\n",
       "    <tr>\n",
       "      <th>std</th>\n",
       "      <td>28</td>\n",
       "      <td>46</td>\n",
       "    </tr>\n",
       "    <tr>\n",
       "      <th>var</th>\n",
       "      <td>798</td>\n",
       "      <td>2199</td>\n",
       "    </tr>\n",
       "  </tbody>\n",
       "</table>\n",
       "</div>"
      ],
      "text/plain": [
       "tariff         smart  ultra\n",
       "duration mean    418    542\n",
       "         std     189    308\n",
       "         var   35969  95467\n",
       "gb_round mean     16     19\n",
       "         std       5      9\n",
       "         var      33     99\n",
       "messages mean     33     48\n",
       "         std      28     46\n",
       "         var     798   2199"
      ]
     },
     "execution_count": 31,
     "metadata": {},
     "output_type": "execute_result"
    }
   ],
   "source": [
    "# Расчет среднего, стандартного токлонения, дисперсии длительности звонка, потребленного трафика и сообщений\n",
    "print()\n",
    "print('Среднее знасение, стандартного отклонения и диспрерсии')\n",
    "print()\n",
    "data.groupby('tariff').agg({'duration':['mean', 'std', 'var'],\n",
    "                            'gb_round':['mean', 'std', 'var'],\n",
    "                            'messages': ['mean', 'std', 'var']}).T.astype('int')"
   ]
  },
  {
   "cell_type": "markdown",
   "metadata": {},
   "source": [
    "### Вывод"
   ]
  },
  {
   "cell_type": "markdown",
   "metadata": {},
   "source": [
    "Для тарифа ультра длительность звонков обладает следующими характеристикми: максимальная длительность разговоров в месяц - 1673 минут в месяц, есть пользователи, которые не совершали звонков в некоторые месяца. Средняя продолжительность звонков в месяц- 542 мин. Медиана - 525 мин. Среднее ежемесячное значение потребленного трафика - 38 ГБ. Среднее количество отправленных сообщений - 49.\n",
    "\n",
    "Средняя продолжительность звонков в месяц для тарифа смарт составляет 418 мин. В среднем в месяц используется 42 гб и отправляется 33 сообщений.\n",
    "\n",
    "Распределение месячной продолжительности звонков для обоих тарифов близки к нормальному. Медианы обоих тарифов близки друг к другу. Распределение длитеьности звонков тарифа ultra имеет большее отклонение, чем отклонение тарифа smart.\n",
    "\n",
    "Распределение потребленного трафика для обоих тарифов имеют пик при значении около 40 гб. Среднее отклонение для тарифа ultra выше чем для тарифа smart.\n",
    "\n",
    "Распределение количества отправденных сообщений обоих тарифов имеют пик в диапазоне от 0 до 25. Для тарифа ultra среднее отклонение выше чем для тарифа smart."
   ]
  },
  {
   "cell_type": "markdown",
   "metadata": {},
   "source": [
    "## Проверка гипотез"
   ]
  },
  {
   "cell_type": "markdown",
   "metadata": {},
   "source": [
    "### Проверка гипотезы о равенстве средней выручки пользователей тарифов Ультра и Смарт"
   ]
  },
  {
   "cell_type": "markdown",
   "metadata": {},
   "source": [
    "Формулирую гипотезы\n",
    "Н0: средние выручки пользователей обоих тарифов равны между собой\n",
    "Н1: средние выручки пользователей обоих тарифов отличаются\n",
    "\n",
    "Значение уровня значимости alpha=5%"
   ]
  },
  {
   "cell_type": "code",
   "execution_count": 32,
   "metadata": {},
   "outputs": [
    {
     "name": "stdout",
     "output_type": "stream",
     "text": [
      "p-значение:  0.000000000000000\n"
     ]
    }
   ],
   "source": [
    "#Проверка гипотезы о равенстве средних\n",
    "results = st.ttest_ind(smart['profit'], ultra['profit'], equal_var = True)\n",
    "print('p-значение: ',format(results.pvalue,'.15f'))\n"
   ]
  },
  {
   "cell_type": "markdown",
   "metadata": {},
   "source": [
    "Т.к. p-значение ниже значения alpha, можно сделать вывод о том, что нулевая гипотеза не подтвердилась, и ее можно отвергнуть. Соответственно, может принять альтернативную гипотезу о том, что выручка пользователей разных тарифов отлична."
   ]
  },
  {
   "cell_type": "markdown",
   "metadata": {},
   "source": [
    "### Проверка гипотезы о равенстве средней выручки пользователей из Москвы и из других городов"
   ]
  },
  {
   "cell_type": "markdown",
   "metadata": {},
   "source": [
    "Формулирую гипотезы\n",
    "Н0: средние выручки пользователей Москвы и других регионов равны\n",
    "Н1: средние выручки пользователей  Москвы и других регионов отличны\n",
    "\n",
    "Значение уровня значимости alpha=5%"
   ]
  },
  {
   "cell_type": "code",
   "execution_count": 33,
   "metadata": {},
   "outputs": [
    {
     "name": "stdout",
     "output_type": "stream",
     "text": [
      "p-значение:  0.465861695827184\n"
     ]
    }
   ],
   "source": [
    "#Проверка гипотезы о равенстве средних\n",
    "data_moscow=data.query('city==\"Москва\"')\n",
    "data_reg=data.query('city!=\"Москва\"')\n",
    "results = st.ttest_ind(data_moscow['profit'], data_reg['profit'], equal_var = True)\n",
    "print('p-значение: ',format(results.pvalue,'.15f'))"
   ]
  },
  {
   "cell_type": "markdown",
   "metadata": {},
   "source": [
    "р-значение выше alpha, из чего следует то, что теория H0 не опровергнута. Принимаем теорию H0 о том, что средняя выручка от пользователей из Москвы и пользователей других регионов равны"
   ]
  },
  {
   "cell_type": "markdown",
   "metadata": {},
   "source": [
    "## Общий вывод"
   ]
  },
  {
   "cell_type": "markdown",
   "metadata": {},
   "source": [
    "Для определения тарифа, прибыльность которого выше, были изучены и проанализорованы данные 500 обонентов за 2018 год.\n",
    "\n",
    "В ходе изучения данных было выявлено, что в данных нет дубликвтов и аномалий. Отсутствие значений в колонке, характеризующей дату окончания действия тарифа, означает, что тарифом пользуются на дату выгрузки. Нулевые значения длительности разговора означают пропущенные звонки. Нулевой потребленный трафик - неудачную сессию. В связи с тем, что пропуски и пустые значения не ошибки, нули и пропуски сохранены в датасете. \n",
    "Были изменены типы данных колонок, характеризующие даты события с object на datetime.\n",
    "\n",
    "Информациф о длительности каждого звонка округлена до минут в большую сторону, в соответствии с тарифным планом.\n",
    "Для анализа, данные были объединены в одну таблицу, и сгруппированы по паре значений пользователь-месяц. В такой группировке округлено до Гб в большую сторону значение потребленного трафика, в соответствии с тарифным планом.\n",
    "\n",
    "Расчитан дополнительный показатель - прибыль за месяц по каждому пользователю в зависимости от тарифа и объема потребленных услуг.\n",
    "\n",
    "Выявлено, что средняя длительность разговора, потребленных гигабайт и количества отправленных смс для пользователей тарифа ultra выше чем для пользователей тарифа smart. При этом среднее распределение этих параметров для тарифа ultra больше.\n",
    "\n",
    "Сравнивая среднемесячную выручку по тарифам помесячно, можно сделать вывод о том, что тариф smart приносит больше прибыли, чем ultra.\n",
    "С помощью ttest теория о том, что средня выручка от пользователей тарифа ultra и тарифа smart равны, отклонена. А теория о том, что выручка от пользователей из москвы и из прочих регионов равны, напротив подтверждена.\n",
    "\n",
    "Таким образом, можно сделать вывод о том, что тариф smart приносит больше выручки, вне зависимости от того, из какого региона пользователь его использует.\n",
    "\n"
   ]
  }
 ],
 "metadata": {
  "ExecuteTimeLog": [
   {
    "duration": 581,
    "start_time": "2022-01-12T07:14:24.641Z"
   },
   {
    "duration": 168,
    "start_time": "2022-01-12T07:14:25.224Z"
   },
   {
    "duration": 10,
    "start_time": "2022-01-12T07:14:25.394Z"
   },
   {
    "duration": 8,
    "start_time": "2022-01-12T07:14:44.019Z"
   },
   {
    "duration": 171,
    "start_time": "2022-01-12T07:15:04.718Z"
   },
   {
    "duration": 147,
    "start_time": "2022-01-12T07:16:01.217Z"
   },
   {
    "duration": 97,
    "start_time": "2022-01-12T07:16:33.086Z"
   },
   {
    "duration": 25,
    "start_time": "2022-01-12T07:17:09.420Z"
   },
   {
    "duration": 3299,
    "start_time": "2022-01-12T07:18:06.786Z"
   },
   {
    "duration": 36,
    "start_time": "2022-01-12T07:18:27.061Z"
   },
   {
    "duration": 365,
    "start_time": "2022-01-12T07:35:55.379Z"
   },
   {
    "duration": 178,
    "start_time": "2022-01-12T07:36:07.386Z"
   },
   {
    "duration": 509,
    "start_time": "2022-01-12T08:08:31.556Z"
   },
   {
    "duration": 1299,
    "start_time": "2022-01-12T08:08:38.477Z"
   },
   {
    "duration": 250,
    "start_time": "2022-01-12T08:08:39.778Z"
   },
   {
    "duration": 256,
    "start_time": "2022-01-12T08:08:40.031Z"
   },
   {
    "duration": 142,
    "start_time": "2022-01-12T08:08:40.290Z"
   },
   {
    "duration": 41,
    "start_time": "2022-01-12T08:08:40.434Z"
   },
   {
    "duration": 54,
    "start_time": "2022-01-12T08:08:40.479Z"
   },
   {
    "duration": 335,
    "start_time": "2022-01-12T08:08:40.536Z"
   },
   {
    "duration": 97,
    "start_time": "2022-01-12T08:08:40.874Z"
   },
   {
    "duration": 36,
    "start_time": "2022-01-12T08:09:18.771Z"
   },
   {
    "duration": 56,
    "start_time": "2022-01-12T08:09:26.651Z"
   },
   {
    "duration": 26,
    "start_time": "2022-01-12T08:09:26.711Z"
   },
   {
    "duration": 42,
    "start_time": "2022-01-12T08:09:26.740Z"
   },
   {
    "duration": 3,
    "start_time": "2022-01-12T08:35:51.291Z"
   },
   {
    "duration": 3,
    "start_time": "2022-01-12T08:37:09.290Z"
   },
   {
    "duration": 3,
    "start_time": "2022-01-12T08:41:15.699Z"
   },
   {
    "duration": 3,
    "start_time": "2022-01-12T08:47:27.432Z"
   },
   {
    "duration": 271,
    "start_time": "2022-01-12T08:47:27.439Z"
   },
   {
    "duration": 220,
    "start_time": "2022-01-12T08:47:27.713Z"
   },
   {
    "duration": 173,
    "start_time": "2022-01-12T08:47:27.936Z"
   },
   {
    "duration": 31,
    "start_time": "2022-01-12T08:47:28.111Z"
   },
   {
    "duration": 56,
    "start_time": "2022-01-12T08:47:28.144Z"
   },
   {
    "duration": 317,
    "start_time": "2022-01-12T08:47:28.203Z"
   },
   {
    "duration": 51,
    "start_time": "2022-01-12T08:47:28.524Z"
   },
   {
    "duration": 39,
    "start_time": "2022-01-12T08:47:28.579Z"
   },
   {
    "duration": 21,
    "start_time": "2022-01-12T08:47:28.621Z"
   },
   {
    "duration": 325,
    "start_time": "2022-01-12T08:47:28.668Z"
   },
   {
    "duration": 278,
    "start_time": "2022-01-12T08:47:40.010Z"
   },
   {
    "duration": 5,
    "start_time": "2022-01-12T08:47:53.361Z"
   },
   {
    "duration": 4,
    "start_time": "2022-01-12T08:49:07.569Z"
   },
   {
    "duration": 271,
    "start_time": "2022-01-12T09:45:49.745Z"
   },
   {
    "duration": 295,
    "start_time": "2022-01-12T09:46:02.276Z"
   },
   {
    "duration": 284,
    "start_time": "2022-01-12T09:47:12.128Z"
   },
   {
    "duration": 533,
    "start_time": "2022-01-12T09:49:30.953Z"
   },
   {
    "duration": 295,
    "start_time": "2022-01-12T09:49:42.304Z"
   },
   {
    "duration": 349,
    "start_time": "2022-01-12T09:52:23.875Z"
   },
   {
    "duration": 66,
    "start_time": "2022-01-12T09:52:54.060Z"
   },
   {
    "duration": 62,
    "start_time": "2022-01-12T09:53:18.141Z"
   },
   {
    "duration": 88,
    "start_time": "2022-01-12T09:55:33.080Z"
   },
   {
    "duration": 51,
    "start_time": "2022-01-12T09:55:40.456Z"
   },
   {
    "duration": 6813,
    "start_time": "2022-01-12T09:56:13.797Z"
   },
   {
    "duration": 83,
    "start_time": "2022-01-12T09:57:12.198Z"
   },
   {
    "duration": 2848,
    "start_time": "2022-01-12T10:22:13.947Z"
   },
   {
    "duration": 2324,
    "start_time": "2022-01-12T10:22:33.588Z"
   },
   {
    "duration": 5,
    "start_time": "2022-01-12T10:22:59.941Z"
   },
   {
    "duration": 321,
    "start_time": "2022-01-12T10:22:59.948Z"
   },
   {
    "duration": 217,
    "start_time": "2022-01-12T10:23:00.272Z"
   },
   {
    "duration": 138,
    "start_time": "2022-01-12T10:23:00.492Z"
   },
   {
    "duration": 35,
    "start_time": "2022-01-12T10:23:00.633Z"
   },
   {
    "duration": 53,
    "start_time": "2022-01-12T10:23:00.670Z"
   },
   {
    "duration": 305,
    "start_time": "2022-01-12T10:23:00.725Z"
   },
   {
    "duration": 51,
    "start_time": "2022-01-12T10:23:01.033Z"
   },
   {
    "duration": 41,
    "start_time": "2022-01-12T10:23:01.086Z"
   },
   {
    "duration": 54,
    "start_time": "2022-01-12T10:23:01.130Z"
   },
   {
    "duration": 4,
    "start_time": "2022-01-12T10:25:16.299Z"
   },
   {
    "duration": 227,
    "start_time": "2022-01-12T10:25:16.305Z"
   },
   {
    "duration": 204,
    "start_time": "2022-01-12T10:25:16.535Z"
   },
   {
    "duration": 140,
    "start_time": "2022-01-12T10:25:16.743Z"
   },
   {
    "duration": 31,
    "start_time": "2022-01-12T10:25:16.885Z"
   },
   {
    "duration": 58,
    "start_time": "2022-01-12T10:25:16.918Z"
   },
   {
    "duration": 295,
    "start_time": "2022-01-12T10:25:16.978Z"
   },
   {
    "duration": 35,
    "start_time": "2022-01-12T10:25:17.277Z"
   },
   {
    "duration": 56,
    "start_time": "2022-01-12T10:25:17.314Z"
   },
   {
    "duration": 21,
    "start_time": "2022-01-12T10:25:17.372Z"
   },
   {
    "duration": 11,
    "start_time": "2022-01-12T10:25:17.396Z"
   },
   {
    "duration": 122,
    "start_time": "2022-01-12T10:25:17.409Z"
   },
   {
    "duration": 5,
    "start_time": "2022-01-12T10:25:17.534Z"
   },
   {
    "duration": 2236,
    "start_time": "2022-01-12T10:25:17.541Z"
   },
   {
    "duration": 401,
    "start_time": "2022-01-12T10:28:26.103Z"
   },
   {
    "duration": 698,
    "start_time": "2022-01-15T07:46:20.567Z"
   },
   {
    "duration": 188,
    "start_time": "2022-01-15T07:46:21.267Z"
   },
   {
    "duration": 144,
    "start_time": "2022-01-15T07:46:21.458Z"
   },
   {
    "duration": 104,
    "start_time": "2022-01-15T07:46:21.604Z"
   },
   {
    "duration": 26,
    "start_time": "2022-01-15T07:46:21.710Z"
   },
   {
    "duration": 53,
    "start_time": "2022-01-15T07:46:21.738Z"
   },
   {
    "duration": 183,
    "start_time": "2022-01-15T07:46:21.792Z"
   },
   {
    "duration": 39,
    "start_time": "2022-01-15T07:46:21.977Z"
   },
   {
    "duration": 27,
    "start_time": "2022-01-15T07:46:22.018Z"
   },
   {
    "duration": 13,
    "start_time": "2022-01-15T07:46:22.047Z"
   },
   {
    "duration": 10,
    "start_time": "2022-01-15T07:46:22.062Z"
   },
   {
    "duration": 74,
    "start_time": "2022-01-15T07:46:22.074Z"
   },
   {
    "duration": 5,
    "start_time": "2022-01-15T07:46:22.152Z"
   },
   {
    "duration": 1673,
    "start_time": "2022-01-15T07:46:22.158Z"
   },
   {
    "duration": 1139,
    "start_time": "2022-01-15T07:47:08.821Z"
   },
   {
    "duration": 7073,
    "start_time": "2022-01-15T07:47:33.667Z"
   },
   {
    "duration": 294,
    "start_time": "2022-01-15T07:52:20.239Z"
   },
   {
    "duration": 647,
    "start_time": "2022-01-15T07:52:26.624Z"
   },
   {
    "duration": 176,
    "start_time": "2022-01-15T07:52:27.273Z"
   },
   {
    "duration": 140,
    "start_time": "2022-01-15T07:52:27.451Z"
   },
   {
    "duration": 102,
    "start_time": "2022-01-15T07:52:27.593Z"
   },
   {
    "duration": 25,
    "start_time": "2022-01-15T07:52:27.697Z"
   },
   {
    "duration": 39,
    "start_time": "2022-01-15T07:52:27.724Z"
   },
   {
    "duration": 207,
    "start_time": "2022-01-15T07:52:27.765Z"
   },
   {
    "duration": 38,
    "start_time": "2022-01-15T07:52:27.974Z"
   },
   {
    "duration": 28,
    "start_time": "2022-01-15T07:52:28.014Z"
   },
   {
    "duration": 14,
    "start_time": "2022-01-15T07:52:28.044Z"
   },
   {
    "duration": 6,
    "start_time": "2022-01-15T07:52:28.060Z"
   },
   {
    "duration": 79,
    "start_time": "2022-01-15T07:52:28.068Z"
   },
   {
    "duration": 4,
    "start_time": "2022-01-15T07:52:28.149Z"
   },
   {
    "duration": 1682,
    "start_time": "2022-01-15T07:52:28.154Z"
   },
   {
    "duration": 283,
    "start_time": "2022-01-15T07:55:59.614Z"
   },
   {
    "duration": 1640,
    "start_time": "2022-01-15T07:56:12.341Z"
   },
   {
    "duration": 653,
    "start_time": "2022-01-15T07:56:32.533Z"
   },
   {
    "duration": 965,
    "start_time": "2022-01-15T07:58:27.433Z"
   },
   {
    "duration": 670,
    "start_time": "2022-01-15T07:58:51.577Z"
   },
   {
    "duration": 655,
    "start_time": "2022-01-15T07:59:35.656Z"
   },
   {
    "duration": 669,
    "start_time": "2022-01-15T08:01:36.119Z"
   },
   {
    "duration": 281,
    "start_time": "2022-01-15T08:15:25.010Z"
   },
   {
    "duration": 32,
    "start_time": "2022-01-15T08:16:27.913Z"
   },
   {
    "duration": 38,
    "start_time": "2022-01-15T08:16:44.265Z"
   },
   {
    "duration": 105,
    "start_time": "2022-01-15T08:18:45.568Z"
   },
   {
    "duration": 41,
    "start_time": "2022-01-15T08:20:15.229Z"
   },
   {
    "duration": 41,
    "start_time": "2022-01-15T08:22:02.694Z"
   },
   {
    "duration": 39,
    "start_time": "2022-01-15T08:22:12.815Z"
   },
   {
    "duration": 298,
    "start_time": "2022-01-15T08:24:39.130Z"
   },
   {
    "duration": 11,
    "start_time": "2022-01-15T08:25:02.132Z"
   },
   {
    "duration": 18,
    "start_time": "2022-01-15T08:25:12.018Z"
   },
   {
    "duration": 3,
    "start_time": "2022-01-15T08:25:32.143Z"
   },
   {
    "duration": 209,
    "start_time": "2022-01-15T08:25:32.148Z"
   },
   {
    "duration": 152,
    "start_time": "2022-01-15T08:25:32.360Z"
   },
   {
    "duration": 98,
    "start_time": "2022-01-15T08:25:32.513Z"
   },
   {
    "duration": 23,
    "start_time": "2022-01-15T08:25:32.613Z"
   },
   {
    "duration": 58,
    "start_time": "2022-01-15T08:25:32.639Z"
   },
   {
    "duration": 162,
    "start_time": "2022-01-15T08:25:32.699Z"
   },
   {
    "duration": 39,
    "start_time": "2022-01-15T08:25:32.862Z"
   },
   {
    "duration": 26,
    "start_time": "2022-01-15T08:25:32.904Z"
   },
   {
    "duration": 14,
    "start_time": "2022-01-15T08:25:32.931Z"
   },
   {
    "duration": 8,
    "start_time": "2022-01-15T08:25:32.946Z"
   },
   {
    "duration": 87,
    "start_time": "2022-01-15T08:25:32.956Z"
   },
   {
    "duration": 5,
    "start_time": "2022-01-15T08:25:33.044Z"
   },
   {
    "duration": 1691,
    "start_time": "2022-01-15T08:25:33.050Z"
   },
   {
    "duration": 1661,
    "start_time": "2022-01-15T08:25:34.742Z"
   },
   {
    "duration": 46,
    "start_time": "2022-01-15T08:25:36.404Z"
   },
   {
    "duration": 18,
    "start_time": "2022-01-15T08:25:36.452Z"
   },
   {
    "duration": 296,
    "start_time": "2022-01-15T08:26:24.872Z"
   },
   {
    "duration": 12,
    "start_time": "2022-01-15T08:26:37.862Z"
   },
   {
    "duration": 3,
    "start_time": "2022-01-15T08:27:00.135Z"
   },
   {
    "duration": 212,
    "start_time": "2022-01-15T08:27:00.139Z"
   },
   {
    "duration": 157,
    "start_time": "2022-01-15T08:27:00.353Z"
   },
   {
    "duration": 105,
    "start_time": "2022-01-15T08:27:00.512Z"
   },
   {
    "duration": 26,
    "start_time": "2022-01-15T08:27:00.618Z"
   },
   {
    "duration": 46,
    "start_time": "2022-01-15T08:27:00.646Z"
   },
   {
    "duration": 168,
    "start_time": "2022-01-15T08:27:00.693Z"
   },
   {
    "duration": 35,
    "start_time": "2022-01-15T08:27:00.864Z"
   },
   {
    "duration": 30,
    "start_time": "2022-01-15T08:27:00.901Z"
   },
   {
    "duration": 16,
    "start_time": "2022-01-15T08:27:00.933Z"
   },
   {
    "duration": 10,
    "start_time": "2022-01-15T08:27:00.950Z"
   },
   {
    "duration": 95,
    "start_time": "2022-01-15T08:27:00.962Z"
   },
   {
    "duration": 5,
    "start_time": "2022-01-15T08:27:01.058Z"
   },
   {
    "duration": 1733,
    "start_time": "2022-01-15T08:27:01.065Z"
   },
   {
    "duration": 1636,
    "start_time": "2022-01-15T08:27:02.800Z"
   },
   {
    "duration": 40,
    "start_time": "2022-01-15T08:27:04.437Z"
   },
   {
    "duration": 26,
    "start_time": "2022-01-15T08:27:04.478Z"
   },
   {
    "duration": 248,
    "start_time": "2022-01-15T08:29:02.244Z"
   },
   {
    "duration": 17,
    "start_time": "2022-01-15T08:29:13.295Z"
   },
   {
    "duration": 3,
    "start_time": "2022-01-15T08:30:45.781Z"
   },
   {
    "duration": 211,
    "start_time": "2022-01-15T08:30:45.786Z"
   },
   {
    "duration": 151,
    "start_time": "2022-01-15T08:30:45.999Z"
   },
   {
    "duration": 102,
    "start_time": "2022-01-15T08:30:46.153Z"
   },
   {
    "duration": 23,
    "start_time": "2022-01-15T08:30:46.257Z"
   },
   {
    "duration": 64,
    "start_time": "2022-01-15T08:30:46.282Z"
   },
   {
    "duration": 169,
    "start_time": "2022-01-15T08:30:46.348Z"
   },
   {
    "duration": 26,
    "start_time": "2022-01-15T08:30:46.519Z"
   },
   {
    "duration": 26,
    "start_time": "2022-01-15T08:30:46.546Z"
   },
   {
    "duration": 35,
    "start_time": "2022-01-15T08:30:46.573Z"
   },
   {
    "duration": 9,
    "start_time": "2022-01-15T08:30:46.609Z"
   },
   {
    "duration": 78,
    "start_time": "2022-01-15T08:30:46.620Z"
   },
   {
    "duration": 5,
    "start_time": "2022-01-15T08:30:46.700Z"
   },
   {
    "duration": 1679,
    "start_time": "2022-01-15T08:30:46.707Z"
   },
   {
    "duration": 1612,
    "start_time": "2022-01-15T08:30:48.388Z"
   },
   {
    "duration": 42,
    "start_time": "2022-01-15T08:30:50.002Z"
   },
   {
    "duration": 13,
    "start_time": "2022-01-15T08:30:50.046Z"
   },
   {
    "duration": 42,
    "start_time": "2022-01-15T08:30:50.061Z"
   },
   {
    "duration": 5134,
    "start_time": "2022-01-15T08:31:49.548Z"
   },
   {
    "duration": 15,
    "start_time": "2022-01-15T08:39:55.252Z"
   },
   {
    "duration": 25,
    "start_time": "2022-01-15T08:44:45.476Z"
   },
   {
    "duration": 26,
    "start_time": "2022-01-15T08:45:36.676Z"
   },
   {
    "duration": 6,
    "start_time": "2022-01-15T08:49:01.441Z"
   },
   {
    "duration": 18,
    "start_time": "2022-01-15T08:49:16.424Z"
   },
   {
    "duration": 267,
    "start_time": "2022-01-15T08:49:44.022Z"
   },
   {
    "duration": 274,
    "start_time": "2022-01-15T08:49:53.154Z"
   },
   {
    "duration": 267,
    "start_time": "2022-01-15T08:49:59.513Z"
   },
   {
    "duration": 19,
    "start_time": "2022-01-15T08:50:06.313Z"
   },
   {
    "duration": 277,
    "start_time": "2022-01-15T08:53:33.458Z"
   },
   {
    "duration": 274,
    "start_time": "2022-01-15T08:55:15.192Z"
   },
   {
    "duration": 253,
    "start_time": "2022-01-15T08:58:03.235Z"
   },
   {
    "duration": 2587,
    "start_time": "2022-01-15T09:03:45.157Z"
   },
   {
    "duration": 3,
    "start_time": "2022-01-15T09:05:16.446Z"
   },
   {
    "duration": 197,
    "start_time": "2022-01-15T09:05:16.451Z"
   },
   {
    "duration": 137,
    "start_time": "2022-01-15T09:05:16.650Z"
   },
   {
    "duration": 95,
    "start_time": "2022-01-15T09:05:16.789Z"
   },
   {
    "duration": 24,
    "start_time": "2022-01-15T09:05:16.885Z"
   },
   {
    "duration": 44,
    "start_time": "2022-01-15T09:05:16.910Z"
   },
   {
    "duration": 149,
    "start_time": "2022-01-15T09:05:16.956Z"
   },
   {
    "duration": 26,
    "start_time": "2022-01-15T09:05:17.107Z"
   },
   {
    "duration": 27,
    "start_time": "2022-01-15T09:05:17.135Z"
   },
   {
    "duration": 37,
    "start_time": "2022-01-15T09:05:17.163Z"
   },
   {
    "duration": 6,
    "start_time": "2022-01-15T09:05:17.201Z"
   },
   {
    "duration": 67,
    "start_time": "2022-01-15T09:05:17.209Z"
   },
   {
    "duration": 21,
    "start_time": "2022-01-15T09:05:17.278Z"
   },
   {
    "duration": 1648,
    "start_time": "2022-01-15T09:05:17.301Z"
   },
   {
    "duration": 1618,
    "start_time": "2022-01-15T09:05:18.951Z"
   },
   {
    "duration": 45,
    "start_time": "2022-01-15T09:05:20.571Z"
   },
   {
    "duration": 12,
    "start_time": "2022-01-15T09:05:20.618Z"
   },
   {
    "duration": 16,
    "start_time": "2022-01-15T09:05:20.631Z"
   },
   {
    "duration": 2657,
    "start_time": "2022-01-15T09:05:20.649Z"
   },
   {
    "duration": 2631,
    "start_time": "2022-01-15T09:05:20.677Z"
   },
   {
    "duration": 8123,
    "start_time": "2022-01-15T09:06:19.009Z"
   },
   {
    "duration": 7,
    "start_time": "2022-01-15T09:06:35.813Z"
   },
   {
    "duration": 7,
    "start_time": "2022-01-15T09:06:47.436Z"
   },
   {
    "duration": 7,
    "start_time": "2022-01-15T09:07:38.976Z"
   },
   {
    "duration": 6,
    "start_time": "2022-01-15T09:07:46.441Z"
   },
   {
    "duration": 6,
    "start_time": "2022-01-15T09:08:08.051Z"
   },
   {
    "duration": 6,
    "start_time": "2022-01-15T09:08:18.539Z"
   },
   {
    "duration": 81,
    "start_time": "2022-01-15T09:08:30.865Z"
   },
   {
    "duration": 7,
    "start_time": "2022-01-15T09:08:36.104Z"
   },
   {
    "duration": 328,
    "start_time": "2022-01-15T09:09:26.990Z"
   },
   {
    "duration": 245,
    "start_time": "2022-01-15T09:09:41.682Z"
   },
   {
    "duration": 5783,
    "start_time": "2022-01-15T09:10:47.222Z"
   },
   {
    "duration": 7,
    "start_time": "2022-01-15T09:11:23.424Z"
   },
   {
    "duration": 8,
    "start_time": "2022-01-15T09:11:36.394Z"
   },
   {
    "duration": 7,
    "start_time": "2022-01-15T09:12:12.753Z"
   },
   {
    "duration": 4432,
    "start_time": "2022-01-15T09:12:48.389Z"
   },
   {
    "duration": 6,
    "start_time": "2022-01-15T09:13:28.205Z"
   },
   {
    "duration": 4320,
    "start_time": "2022-01-15T09:14:31.130Z"
   },
   {
    "duration": 7,
    "start_time": "2022-01-15T09:14:54.194Z"
   },
   {
    "duration": 8,
    "start_time": "2022-01-15T09:15:00.051Z"
   },
   {
    "duration": 8,
    "start_time": "2022-01-15T09:15:23.407Z"
   },
   {
    "duration": 7,
    "start_time": "2022-01-15T09:15:29.756Z"
   },
   {
    "duration": 16,
    "start_time": "2022-01-15T09:15:44.527Z"
   },
   {
    "duration": 284,
    "start_time": "2022-01-15T09:20:30.459Z"
   },
   {
    "duration": 18,
    "start_time": "2022-01-15T09:22:50.892Z"
   },
   {
    "duration": 17,
    "start_time": "2022-01-15T09:23:08.245Z"
   },
   {
    "duration": 20,
    "start_time": "2022-01-15T09:23:39.329Z"
   },
   {
    "duration": 268,
    "start_time": "2022-01-15T09:23:46.791Z"
   },
   {
    "duration": 85,
    "start_time": "2022-01-15T09:23:58.928Z"
   },
   {
    "duration": 435,
    "start_time": "2022-01-15T09:24:08.101Z"
   },
   {
    "duration": 19,
    "start_time": "2022-01-15T09:24:19.244Z"
   },
   {
    "duration": 20,
    "start_time": "2022-01-15T09:24:28.928Z"
   },
   {
    "duration": 267,
    "start_time": "2022-01-15T09:25:23.825Z"
   },
   {
    "duration": 6629,
    "start_time": "2022-01-15T09:25:35.845Z"
   },
   {
    "duration": 264,
    "start_time": "2022-01-15T09:28:29.840Z"
   },
   {
    "duration": 256,
    "start_time": "2022-01-15T09:29:38.098Z"
   },
   {
    "duration": 14,
    "start_time": "2022-01-15T09:29:45.110Z"
   },
   {
    "duration": 27,
    "start_time": "2022-01-15T09:35:11.401Z"
   },
   {
    "duration": 13,
    "start_time": "2022-01-15T09:36:01.978Z"
   },
   {
    "duration": 6050,
    "start_time": "2022-01-15T09:36:15.245Z"
   },
   {
    "duration": 16,
    "start_time": "2022-01-15T09:36:29.819Z"
   },
   {
    "duration": 11,
    "start_time": "2022-01-15T09:37:48.302Z"
   },
   {
    "duration": 17,
    "start_time": "2022-01-15T09:39:14.104Z"
   },
   {
    "duration": 89,
    "start_time": "2022-01-15T11:07:04.782Z"
   },
   {
    "duration": 6477,
    "start_time": "2022-01-15T11:07:14.183Z"
   },
   {
    "duration": 1781,
    "start_time": "2022-01-15T11:10:32.816Z"
   },
   {
    "duration": 6775,
    "start_time": "2022-01-15T11:19:47.361Z"
   },
   {
    "duration": 3824,
    "start_time": "2022-01-15T11:20:37.032Z"
   },
   {
    "duration": 3694,
    "start_time": "2022-01-15T11:22:38.937Z"
   },
   {
    "duration": 3583,
    "start_time": "2022-01-15T11:23:45.217Z"
   },
   {
    "duration": 50,
    "start_time": "2022-01-15T11:25:44.107Z"
   },
   {
    "duration": 108,
    "start_time": "2022-01-15T11:26:07.653Z"
   },
   {
    "duration": 112,
    "start_time": "2022-01-15T11:27:23.894Z"
   },
   {
    "duration": 95,
    "start_time": "2022-01-15T11:29:49.469Z"
   },
   {
    "duration": 1358,
    "start_time": "2022-01-15T11:29:54.981Z"
   },
   {
    "duration": 329,
    "start_time": "2022-01-15T14:01:28.877Z"
   },
   {
    "duration": 796,
    "start_time": "2022-01-15T14:01:33.459Z"
   },
   {
    "duration": 327,
    "start_time": "2022-01-15T14:01:34.258Z"
   },
   {
    "duration": 190,
    "start_time": "2022-01-15T14:01:34.589Z"
   },
   {
    "duration": 128,
    "start_time": "2022-01-15T14:01:34.782Z"
   },
   {
    "duration": 27,
    "start_time": "2022-01-15T14:01:34.924Z"
   },
   {
    "duration": 42,
    "start_time": "2022-01-15T14:01:34.954Z"
   },
   {
    "duration": 280,
    "start_time": "2022-01-15T14:01:34.998Z"
   },
   {
    "duration": 47,
    "start_time": "2022-01-15T14:01:35.282Z"
   },
   {
    "duration": 34,
    "start_time": "2022-01-15T14:01:35.331Z"
   },
   {
    "duration": 21,
    "start_time": "2022-01-15T14:01:35.368Z"
   },
   {
    "duration": 33,
    "start_time": "2022-01-15T14:01:35.392Z"
   },
   {
    "duration": 110,
    "start_time": "2022-01-15T14:01:35.428Z"
   },
   {
    "duration": 5,
    "start_time": "2022-01-15T14:01:35.541Z"
   },
   {
    "duration": 2134,
    "start_time": "2022-01-15T14:01:35.548Z"
   },
   {
    "duration": 2010,
    "start_time": "2022-01-15T14:01:37.684Z"
   },
   {
    "duration": 61,
    "start_time": "2022-01-15T14:01:39.696Z"
   },
   {
    "duration": 17,
    "start_time": "2022-01-15T14:01:39.759Z"
   },
   {
    "duration": 22,
    "start_time": "2022-01-15T14:01:39.779Z"
   },
   {
    "duration": 15,
    "start_time": "2022-01-15T14:01:39.824Z"
   },
   {
    "duration": 26,
    "start_time": "2022-01-15T14:01:39.841Z"
   },
   {
    "duration": 197,
    "start_time": "2022-01-15T14:01:39.869Z"
   },
   {
    "duration": 176,
    "start_time": "2022-01-15T14:02:48.633Z"
   },
   {
    "duration": 176,
    "start_time": "2022-01-15T14:12:45.984Z"
   },
   {
    "duration": 173,
    "start_time": "2022-01-15T14:13:23.615Z"
   },
   {
    "duration": 162,
    "start_time": "2022-01-15T14:13:34.127Z"
   },
   {
    "duration": 154,
    "start_time": "2022-01-15T14:15:29.602Z"
   },
   {
    "duration": 29,
    "start_time": "2022-01-15T14:16:28.673Z"
   },
   {
    "duration": 172,
    "start_time": "2022-01-15T14:16:39.982Z"
   },
   {
    "duration": 11,
    "start_time": "2022-01-15T14:35:09.722Z"
   },
   {
    "duration": 339,
    "start_time": "2022-01-15T14:36:57.650Z"
   },
   {
    "duration": 335,
    "start_time": "2022-01-15T14:37:13.837Z"
   },
   {
    "duration": 23,
    "start_time": "2022-01-15T14:39:48.507Z"
   },
   {
    "duration": 42,
    "start_time": "2022-01-15T14:40:02.602Z"
   },
   {
    "duration": 43,
    "start_time": "2022-01-15T14:53:21.850Z"
   },
   {
    "duration": 4,
    "start_time": "2022-01-15T14:56:57.588Z"
   },
   {
    "duration": 210,
    "start_time": "2022-01-15T14:56:57.595Z"
   },
   {
    "duration": 198,
    "start_time": "2022-01-15T14:56:57.825Z"
   },
   {
    "duration": 124,
    "start_time": "2022-01-15T14:56:58.026Z"
   },
   {
    "duration": 28,
    "start_time": "2022-01-15T14:56:58.152Z"
   },
   {
    "duration": 47,
    "start_time": "2022-01-15T14:56:58.183Z"
   },
   {
    "duration": 304,
    "start_time": "2022-01-15T14:56:58.233Z"
   },
   {
    "duration": 32,
    "start_time": "2022-01-15T14:56:58.541Z"
   },
   {
    "duration": 57,
    "start_time": "2022-01-15T14:56:58.576Z"
   },
   {
    "duration": 22,
    "start_time": "2022-01-15T14:56:58.635Z"
   },
   {
    "duration": 10,
    "start_time": "2022-01-15T14:56:58.659Z"
   },
   {
    "duration": 142,
    "start_time": "2022-01-15T14:56:58.672Z"
   },
   {
    "duration": 13,
    "start_time": "2022-01-15T14:56:58.817Z"
   },
   {
    "duration": 2364,
    "start_time": "2022-01-15T14:56:58.833Z"
   },
   {
    "duration": 2057,
    "start_time": "2022-01-15T14:57:01.200Z"
   },
   {
    "duration": 91,
    "start_time": "2022-01-15T14:57:03.260Z"
   },
   {
    "duration": 26,
    "start_time": "2022-01-15T14:57:03.354Z"
   },
   {
    "duration": 52,
    "start_time": "2022-01-15T14:57:03.383Z"
   },
   {
    "duration": 18,
    "start_time": "2022-01-15T14:57:03.438Z"
   },
   {
    "duration": 28,
    "start_time": "2022-01-15T14:57:03.459Z"
   },
   {
    "duration": 515,
    "start_time": "2022-01-15T14:57:03.490Z"
   },
   {
    "duration": 2767,
    "start_time": "2022-01-15T14:57:01.241Z"
   },
   {
    "duration": 2760,
    "start_time": "2022-01-15T14:57:01.249Z"
   },
   {
    "duration": 690,
    "start_time": "2022-01-15T14:57:32.055Z"
   },
   {
    "duration": 175,
    "start_time": "2022-01-15T14:57:46.851Z"
   },
   {
    "duration": 45,
    "start_time": "2022-01-15T14:57:53.825Z"
   },
   {
    "duration": 46,
    "start_time": "2022-01-15T14:57:56.876Z"
   },
   {
    "duration": 5470,
    "start_time": "2022-01-15T14:59:38.142Z"
   },
   {
    "duration": 2683,
    "start_time": "2022-01-15T14:59:56.021Z"
   },
   {
    "duration": 2604,
    "start_time": "2022-01-15T15:00:05.695Z"
   },
   {
    "duration": 2876,
    "start_time": "2022-01-15T15:00:22.681Z"
   },
   {
    "duration": 452,
    "start_time": "2022-01-15T15:01:09.902Z"
   },
   {
    "duration": 929,
    "start_time": "2022-01-15T15:01:19.367Z"
   },
   {
    "duration": 226,
    "start_time": "2022-01-15T15:01:20.299Z"
   },
   {
    "duration": 187,
    "start_time": "2022-01-15T15:01:20.528Z"
   },
   {
    "duration": 120,
    "start_time": "2022-01-15T15:01:20.724Z"
   },
   {
    "duration": 30,
    "start_time": "2022-01-15T15:01:20.847Z"
   },
   {
    "duration": 45,
    "start_time": "2022-01-15T15:01:20.879Z"
   },
   {
    "duration": 278,
    "start_time": "2022-01-15T15:01:20.926Z"
   },
   {
    "duration": 41,
    "start_time": "2022-01-15T15:01:21.208Z"
   },
   {
    "duration": 33,
    "start_time": "2022-01-15T15:01:21.252Z"
   },
   {
    "duration": 45,
    "start_time": "2022-01-15T15:01:21.288Z"
   },
   {
    "duration": 9,
    "start_time": "2022-01-15T15:01:21.335Z"
   },
   {
    "duration": 103,
    "start_time": "2022-01-15T15:01:21.347Z"
   },
   {
    "duration": 7,
    "start_time": "2022-01-15T15:01:21.452Z"
   },
   {
    "duration": 5896,
    "start_time": "2022-01-15T15:01:27.089Z"
   },
   {
    "duration": 912,
    "start_time": "2022-01-15T15:01:57.520Z"
   },
   {
    "duration": 419,
    "start_time": "2022-01-15T15:04:38.263Z"
   },
   {
    "duration": 288,
    "start_time": "2022-01-15T15:04:56.293Z"
   },
   {
    "duration": 314,
    "start_time": "2022-01-15T15:05:11.206Z"
   },
   {
    "duration": 1082,
    "start_time": "2022-01-15T15:05:35.376Z"
   },
   {
    "duration": 20,
    "start_time": "2022-01-15T15:06:25.348Z"
   },
   {
    "duration": 51,
    "start_time": "2022-01-15T15:06:31.507Z"
   },
   {
    "duration": 4,
    "start_time": "2022-01-15T15:08:08.364Z"
   },
   {
    "duration": 236,
    "start_time": "2022-01-15T15:08:08.371Z"
   },
   {
    "duration": 203,
    "start_time": "2022-01-15T15:08:08.610Z"
   },
   {
    "duration": 139,
    "start_time": "2022-01-15T15:08:08.816Z"
   },
   {
    "duration": 29,
    "start_time": "2022-01-15T15:08:08.958Z"
   },
   {
    "duration": 50,
    "start_time": "2022-01-15T15:08:08.989Z"
   },
   {
    "duration": 240,
    "start_time": "2022-01-15T15:08:09.043Z"
   },
   {
    "duration": 53,
    "start_time": "2022-01-15T15:08:09.286Z"
   },
   {
    "duration": 34,
    "start_time": "2022-01-15T15:08:09.342Z"
   },
   {
    "duration": 21,
    "start_time": "2022-01-15T15:08:09.379Z"
   },
   {
    "duration": 11,
    "start_time": "2022-01-15T15:08:09.428Z"
   },
   {
    "duration": 111,
    "start_time": "2022-01-15T15:08:09.441Z"
   },
   {
    "duration": 6,
    "start_time": "2022-01-15T15:08:09.554Z"
   },
   {
    "duration": 2184,
    "start_time": "2022-01-15T15:08:09.562Z"
   },
   {
    "duration": 2064,
    "start_time": "2022-01-15T15:08:11.749Z"
   },
   {
    "duration": 66,
    "start_time": "2022-01-15T15:08:13.816Z"
   },
   {
    "duration": 42,
    "start_time": "2022-01-15T15:08:13.885Z"
   },
   {
    "duration": 28,
    "start_time": "2022-01-15T15:08:13.931Z"
   },
   {
    "duration": 16,
    "start_time": "2022-01-15T15:08:13.965Z"
   },
   {
    "duration": 68,
    "start_time": "2022-01-15T15:08:13.984Z"
   },
   {
    "duration": 210,
    "start_time": "2022-01-15T15:08:14.054Z"
   },
   {
    "duration": 44,
    "start_time": "2022-01-15T15:08:14.267Z"
   },
   {
    "duration": 47,
    "start_time": "2022-01-15T15:08:14.323Z"
   },
   {
    "duration": 297,
    "start_time": "2022-01-15T15:18:23.148Z"
   },
   {
    "duration": 6880,
    "start_time": "2022-01-15T15:18:47.098Z"
   },
   {
    "duration": 313,
    "start_time": "2022-01-15T15:19:03.766Z"
   },
   {
    "duration": 293,
    "start_time": "2022-01-15T15:23:30.264Z"
   },
   {
    "duration": 289,
    "start_time": "2022-01-15T15:23:36.974Z"
   },
   {
    "duration": 312,
    "start_time": "2022-01-15T15:25:29.093Z"
   },
   {
    "duration": 280,
    "start_time": "2022-01-15T15:28:13.381Z"
   },
   {
    "duration": 330,
    "start_time": "2022-01-15T15:28:29.081Z"
   },
   {
    "duration": 467,
    "start_time": "2022-01-15T15:29:07.621Z"
   },
   {
    "duration": 514,
    "start_time": "2022-01-15T15:29:19.578Z"
   },
   {
    "duration": 422,
    "start_time": "2022-01-15T15:30:42.397Z"
   },
   {
    "duration": 590,
    "start_time": "2022-01-15T15:31:57.382Z"
   },
   {
    "duration": 612,
    "start_time": "2022-01-15T15:34:57.629Z"
   },
   {
    "duration": 683,
    "start_time": "2022-01-15T15:40:35.436Z"
   },
   {
    "duration": 561,
    "start_time": "2022-01-15T15:40:39.645Z"
   },
   {
    "duration": 705,
    "start_time": "2022-01-15T15:42:01.326Z"
   },
   {
    "duration": 558,
    "start_time": "2022-01-15T15:42:20.187Z"
   },
   {
    "duration": 558,
    "start_time": "2022-01-15T15:42:42.156Z"
   },
   {
    "duration": 392,
    "start_time": "2022-01-15T15:42:59.611Z"
   },
   {
    "duration": 612,
    "start_time": "2022-01-15T15:43:10.068Z"
   },
   {
    "duration": 352,
    "start_time": "2022-01-15T15:44:55.282Z"
   },
   {
    "duration": 778,
    "start_time": "2022-01-15T15:45:24.324Z"
   },
   {
    "duration": 584,
    "start_time": "2022-01-15T15:45:28.566Z"
   },
   {
    "duration": 355,
    "start_time": "2022-01-16T03:01:17.827Z"
   },
   {
    "duration": 787,
    "start_time": "2022-01-16T03:01:25.373Z"
   },
   {
    "duration": 232,
    "start_time": "2022-01-16T03:01:26.163Z"
   },
   {
    "duration": 187,
    "start_time": "2022-01-16T03:01:26.398Z"
   },
   {
    "duration": 136,
    "start_time": "2022-01-16T03:01:26.588Z"
   },
   {
    "duration": 28,
    "start_time": "2022-01-16T03:01:26.727Z"
   },
   {
    "duration": 41,
    "start_time": "2022-01-16T03:01:26.757Z"
   },
   {
    "duration": 283,
    "start_time": "2022-01-16T03:01:26.800Z"
   },
   {
    "duration": 46,
    "start_time": "2022-01-16T03:01:27.086Z"
   },
   {
    "duration": 35,
    "start_time": "2022-01-16T03:01:27.136Z"
   },
   {
    "duration": 21,
    "start_time": "2022-01-16T03:01:27.173Z"
   },
   {
    "duration": 35,
    "start_time": "2022-01-16T03:01:27.196Z"
   },
   {
    "duration": 108,
    "start_time": "2022-01-16T03:01:27.233Z"
   },
   {
    "duration": 6,
    "start_time": "2022-01-16T03:01:27.343Z"
   },
   {
    "duration": 2322,
    "start_time": "2022-01-16T03:01:27.352Z"
   },
   {
    "duration": 2022,
    "start_time": "2022-01-16T03:01:29.677Z"
   },
   {
    "duration": 68,
    "start_time": "2022-01-16T03:01:31.701Z"
   },
   {
    "duration": 17,
    "start_time": "2022-01-16T03:01:31.771Z"
   },
   {
    "duration": 43,
    "start_time": "2022-01-16T03:01:31.791Z"
   },
   {
    "duration": 16,
    "start_time": "2022-01-16T03:01:31.836Z"
   },
   {
    "duration": 26,
    "start_time": "2022-01-16T03:01:31.855Z"
   },
   {
    "duration": 227,
    "start_time": "2022-01-16T03:01:31.883Z"
   },
   {
    "duration": 50,
    "start_time": "2022-01-16T03:01:32.112Z"
   },
   {
    "duration": 65,
    "start_time": "2022-01-16T03:01:32.165Z"
   },
   {
    "duration": 343,
    "start_time": "2022-01-16T03:01:32.233Z"
   },
   {
    "duration": -815,
    "start_time": "2022-01-16T03:01:33.394Z"
   },
   {
    "duration": -825,
    "start_time": "2022-01-16T03:01:33.406Z"
   },
   {
    "duration": -842,
    "start_time": "2022-01-16T03:01:33.426Z"
   },
   {
    "duration": 296,
    "start_time": "2022-01-16T03:04:25.023Z"
   },
   {
    "duration": 263,
    "start_time": "2022-01-16T03:04:40.895Z"
   },
   {
    "duration": 552,
    "start_time": "2022-01-16T03:04:52.851Z"
   },
   {
    "duration": 577,
    "start_time": "2022-01-16T03:05:00.289Z"
   },
   {
    "duration": 325,
    "start_time": "2022-01-16T03:05:05.330Z"
   },
   {
    "duration": 6,
    "start_time": "2022-01-16T03:05:12.051Z"
   },
   {
    "duration": 23,
    "start_time": "2022-01-16T03:06:46.924Z"
   },
   {
    "duration": 12,
    "start_time": "2022-01-16T03:08:16.963Z"
   },
   {
    "duration": 18,
    "start_time": "2022-01-16T03:08:26.938Z"
   },
   {
    "duration": 21,
    "start_time": "2022-01-16T03:09:54.049Z"
   },
   {
    "duration": 21,
    "start_time": "2022-01-16T03:15:21.794Z"
   },
   {
    "duration": 11,
    "start_time": "2022-01-16T03:15:29.883Z"
   },
   {
    "duration": 4,
    "start_time": "2022-01-16T03:16:08.033Z"
   },
   {
    "duration": 300,
    "start_time": "2022-01-16T03:16:08.040Z"
   },
   {
    "duration": 209,
    "start_time": "2022-01-16T03:16:08.344Z"
   },
   {
    "duration": 124,
    "start_time": "2022-01-16T03:16:08.556Z"
   },
   {
    "duration": 39,
    "start_time": "2022-01-16T03:16:08.683Z"
   },
   {
    "duration": 42,
    "start_time": "2022-01-16T03:16:08.724Z"
   },
   {
    "duration": 249,
    "start_time": "2022-01-16T03:16:08.769Z"
   },
   {
    "duration": 31,
    "start_time": "2022-01-16T03:16:09.024Z"
   },
   {
    "duration": 33,
    "start_time": "2022-01-16T03:16:09.059Z"
   },
   {
    "duration": 45,
    "start_time": "2022-01-16T03:16:09.095Z"
   },
   {
    "duration": 8,
    "start_time": "2022-01-16T03:16:09.142Z"
   },
   {
    "duration": 106,
    "start_time": "2022-01-16T03:16:09.152Z"
   },
   {
    "duration": 5,
    "start_time": "2022-01-16T03:16:09.260Z"
   },
   {
    "duration": 2113,
    "start_time": "2022-01-16T03:16:09.267Z"
   },
   {
    "duration": 2012,
    "start_time": "2022-01-16T03:16:11.383Z"
   },
   {
    "duration": 68,
    "start_time": "2022-01-16T03:16:13.397Z"
   },
   {
    "duration": 18,
    "start_time": "2022-01-16T03:16:13.467Z"
   },
   {
    "duration": 43,
    "start_time": "2022-01-16T03:16:13.488Z"
   },
   {
    "duration": 16,
    "start_time": "2022-01-16T03:16:13.533Z"
   },
   {
    "duration": 27,
    "start_time": "2022-01-16T03:16:13.551Z"
   },
   {
    "duration": 203,
    "start_time": "2022-01-16T03:16:13.580Z"
   },
   {
    "duration": 58,
    "start_time": "2022-01-16T03:16:13.785Z"
   },
   {
    "duration": 45,
    "start_time": "2022-01-16T03:16:13.845Z"
   },
   {
    "duration": 584,
    "start_time": "2022-01-16T03:16:13.892Z"
   },
   {
    "duration": 549,
    "start_time": "2022-01-16T03:16:14.478Z"
   },
   {
    "duration": 348,
    "start_time": "2022-01-16T03:16:15.029Z"
   },
   {
    "duration": 20,
    "start_time": "2022-01-16T03:16:15.382Z"
   },
   {
    "duration": 20,
    "start_time": "2022-01-16T03:16:15.423Z"
   },
   {
    "duration": 10,
    "start_time": "2022-01-16T03:16:15.445Z"
   },
   {
    "duration": 12,
    "start_time": "2022-01-16T03:19:45.551Z"
   },
   {
    "duration": 1025,
    "start_time": "2022-01-16T03:22:18.744Z"
   },
   {
    "duration": 573,
    "start_time": "2022-01-16T03:28:07.995Z"
   },
   {
    "duration": 409,
    "start_time": "2022-01-16T03:28:25.985Z"
   },
   {
    "duration": 522,
    "start_time": "2022-01-16T03:29:37.355Z"
   },
   {
    "duration": 673,
    "start_time": "2022-01-16T03:30:02.176Z"
   },
   {
    "duration": 612,
    "start_time": "2022-01-16T03:48:09.666Z"
   },
   {
    "duration": 549,
    "start_time": "2022-01-16T03:48:20.145Z"
   },
   {
    "duration": 328,
    "start_time": "2022-01-16T03:48:28.059Z"
   },
   {
    "duration": 22,
    "start_time": "2022-01-16T03:48:50.076Z"
   },
   {
    "duration": 22,
    "start_time": "2022-01-16T03:48:59.270Z"
   },
   {
    "duration": 10,
    "start_time": "2022-01-16T03:49:30.134Z"
   },
   {
    "duration": 11,
    "start_time": "2022-01-16T03:49:57.572Z"
   },
   {
    "duration": 711,
    "start_time": "2022-01-16T03:51:42.353Z"
   },
   {
    "duration": 2721,
    "start_time": "2022-01-16T04:17:06.419Z"
   },
   {
    "duration": 4,
    "start_time": "2022-01-16T04:17:20.613Z"
   },
   {
    "duration": 226,
    "start_time": "2022-01-16T04:17:20.620Z"
   },
   {
    "duration": 203,
    "start_time": "2022-01-16T04:17:20.850Z"
   },
   {
    "duration": 149,
    "start_time": "2022-01-16T04:17:21.056Z"
   },
   {
    "duration": 34,
    "start_time": "2022-01-16T04:17:21.208Z"
   },
   {
    "duration": 47,
    "start_time": "2022-01-16T04:17:21.244Z"
   },
   {
    "duration": 246,
    "start_time": "2022-01-16T04:17:21.294Z"
   },
   {
    "duration": 33,
    "start_time": "2022-01-16T04:17:21.543Z"
   },
   {
    "duration": 62,
    "start_time": "2022-01-16T04:17:21.580Z"
   },
   {
    "duration": 22,
    "start_time": "2022-01-16T04:17:21.645Z"
   },
   {
    "duration": 12,
    "start_time": "2022-01-16T04:17:21.669Z"
   },
   {
    "duration": 117,
    "start_time": "2022-01-16T04:17:21.683Z"
   },
   {
    "duration": 5,
    "start_time": "2022-01-16T04:17:21.803Z"
   },
   {
    "duration": 139,
    "start_time": "2022-01-16T04:17:21.810Z"
   },
   {
    "duration": 26,
    "start_time": "2022-01-16T04:17:21.952Z"
   },
   {
    "duration": 77,
    "start_time": "2022-01-16T04:17:21.980Z"
   },
   {
    "duration": 17,
    "start_time": "2022-01-16T04:17:22.060Z"
   },
   {
    "duration": 44,
    "start_time": "2022-01-16T04:17:22.080Z"
   },
   {
    "duration": 17,
    "start_time": "2022-01-16T04:17:22.127Z"
   },
   {
    "duration": 29,
    "start_time": "2022-01-16T04:17:22.146Z"
   },
   {
    "duration": 220,
    "start_time": "2022-01-16T04:17:22.177Z"
   },
   {
    "duration": 57,
    "start_time": "2022-01-16T04:17:22.400Z"
   },
   {
    "duration": 45,
    "start_time": "2022-01-16T04:17:22.459Z"
   },
   {
    "duration": 542,
    "start_time": "2022-01-16T04:17:22.523Z"
   },
   {
    "duration": 608,
    "start_time": "2022-01-16T04:17:23.068Z"
   },
   {
    "duration": 326,
    "start_time": "2022-01-16T04:17:23.679Z"
   },
   {
    "duration": 30,
    "start_time": "2022-01-16T04:17:24.010Z"
   },
   {
    "duration": 20,
    "start_time": "2022-01-16T04:17:24.043Z"
   },
   {
    "duration": 11,
    "start_time": "2022-01-16T04:17:24.065Z"
   },
   {
    "duration": 53,
    "start_time": "2022-01-16T04:17:24.079Z"
   },
   {
    "duration": 4,
    "start_time": "2022-01-16T04:32:16.185Z"
   },
   {
    "duration": 207,
    "start_time": "2022-01-16T04:32:16.192Z"
   },
   {
    "duration": 201,
    "start_time": "2022-01-16T04:32:16.402Z"
   },
   {
    "duration": 136,
    "start_time": "2022-01-16T04:32:16.606Z"
   },
   {
    "duration": 29,
    "start_time": "2022-01-16T04:32:16.745Z"
   },
   {
    "duration": 50,
    "start_time": "2022-01-16T04:32:16.777Z"
   },
   {
    "duration": 249,
    "start_time": "2022-01-16T04:32:16.830Z"
   },
   {
    "duration": 43,
    "start_time": "2022-01-16T04:32:17.081Z"
   },
   {
    "duration": 36,
    "start_time": "2022-01-16T04:32:17.127Z"
   },
   {
    "duration": 21,
    "start_time": "2022-01-16T04:32:17.165Z"
   },
   {
    "duration": 40,
    "start_time": "2022-01-16T04:32:17.188Z"
   },
   {
    "duration": 101,
    "start_time": "2022-01-16T04:32:17.230Z"
   },
   {
    "duration": 6,
    "start_time": "2022-01-16T04:32:17.333Z"
   },
   {
    "duration": 143,
    "start_time": "2022-01-16T04:32:17.343Z"
   },
   {
    "duration": 18,
    "start_time": "2022-01-16T04:32:17.490Z"
   },
   {
    "duration": 59,
    "start_time": "2022-01-16T04:32:17.523Z"
   },
   {
    "duration": 41,
    "start_time": "2022-01-16T04:32:17.586Z"
   },
   {
    "duration": 28,
    "start_time": "2022-01-16T04:32:17.630Z"
   },
   {
    "duration": 18,
    "start_time": "2022-01-16T04:32:17.661Z"
   },
   {
    "duration": 30,
    "start_time": "2022-01-16T04:32:17.722Z"
   },
   {
    "duration": 200,
    "start_time": "2022-01-16T04:32:17.755Z"
   },
   {
    "duration": 49,
    "start_time": "2022-01-16T04:32:17.957Z"
   },
   {
    "duration": 52,
    "start_time": "2022-01-16T04:32:18.024Z"
   },
   {
    "duration": 635,
    "start_time": "2022-01-16T04:32:18.079Z"
   },
   {
    "duration": 716,
    "start_time": "2022-01-16T04:32:18.717Z"
   },
   {
    "duration": 319,
    "start_time": "2022-01-16T04:32:19.436Z"
   },
   {
    "duration": 22,
    "start_time": "2022-01-16T04:32:19.757Z"
   },
   {
    "duration": 46,
    "start_time": "2022-01-16T04:32:19.781Z"
   },
   {
    "duration": 11,
    "start_time": "2022-01-16T04:32:19.830Z"
   },
   {
    "duration": 19,
    "start_time": "2022-01-16T04:32:19.843Z"
   },
   {
    "duration": 287,
    "start_time": "2022-01-16T05:15:29.267Z"
   },
   {
    "duration": 24,
    "start_time": "2022-01-16T05:15:42.640Z"
   },
   {
    "duration": 109,
    "start_time": "2022-01-16T05:19:07.469Z"
   },
   {
    "duration": 49,
    "start_time": "2022-01-16T05:19:13.048Z"
   },
   {
    "duration": 232,
    "start_time": "2022-01-16T05:19:21.390Z"
   },
   {
    "duration": 26,
    "start_time": "2022-01-16T05:19:28.047Z"
   },
   {
    "duration": 610,
    "start_time": "2022-01-16T05:44:06.231Z"
   },
   {
    "duration": 107,
    "start_time": "2022-01-16T05:49:21.609Z"
   },
   {
    "duration": 109,
    "start_time": "2022-01-16T05:49:58.831Z"
   },
   {
    "duration": 113,
    "start_time": "2022-01-16T05:50:13.780Z"
   },
   {
    "duration": 430,
    "start_time": "2022-01-16T05:50:37.630Z"
   },
   {
    "duration": 106,
    "start_time": "2022-01-16T05:50:54.737Z"
   },
   {
    "duration": 421,
    "start_time": "2022-01-16T05:53:01.943Z"
   },
   {
    "duration": 584,
    "start_time": "2022-01-16T05:53:15.900Z"
   },
   {
    "duration": 116,
    "start_time": "2022-01-16T05:53:36.832Z"
   },
   {
    "duration": 113,
    "start_time": "2022-01-16T05:53:46.416Z"
   },
   {
    "duration": 33,
    "start_time": "2022-01-16T05:53:57.532Z"
   },
   {
    "duration": 4,
    "start_time": "2022-01-16T05:54:29.051Z"
   },
   {
    "duration": 223,
    "start_time": "2022-01-16T05:54:29.058Z"
   },
   {
    "duration": 196,
    "start_time": "2022-01-16T05:54:29.285Z"
   },
   {
    "duration": 130,
    "start_time": "2022-01-16T05:54:29.483Z"
   },
   {
    "duration": 30,
    "start_time": "2022-01-16T05:54:29.624Z"
   },
   {
    "duration": 45,
    "start_time": "2022-01-16T05:54:29.656Z"
   },
   {
    "duration": 266,
    "start_time": "2022-01-16T05:54:29.704Z"
   },
   {
    "duration": 49,
    "start_time": "2022-01-16T05:54:29.974Z"
   },
   {
    "duration": 36,
    "start_time": "2022-01-16T05:54:30.026Z"
   },
   {
    "duration": 21,
    "start_time": "2022-01-16T05:54:30.064Z"
   },
   {
    "duration": 39,
    "start_time": "2022-01-16T05:54:30.088Z"
   },
   {
    "duration": 101,
    "start_time": "2022-01-16T05:54:30.130Z"
   },
   {
    "duration": 8,
    "start_time": "2022-01-16T05:54:30.233Z"
   },
   {
    "duration": 136,
    "start_time": "2022-01-16T05:54:30.243Z"
   },
   {
    "duration": 66,
    "start_time": "2022-01-16T05:54:30.383Z"
   },
   {
    "duration": 33,
    "start_time": "2022-01-16T05:54:36.120Z"
   },
   {
    "duration": 309,
    "start_time": "2022-01-16T05:55:00.210Z"
   },
   {
    "duration": 54,
    "start_time": "2022-01-16T05:55:52.652Z"
   },
   {
    "duration": 42,
    "start_time": "2022-01-16T05:55:55.604Z"
   },
   {
    "duration": 9,
    "start_time": "2022-01-16T05:56:12.710Z"
   },
   {
    "duration": 9,
    "start_time": "2022-01-16T05:56:41.953Z"
   },
   {
    "duration": 300,
    "start_time": "2022-01-16T05:57:18.826Z"
   },
   {
    "duration": 12,
    "start_time": "2022-01-16T05:58:01.649Z"
   },
   {
    "duration": 563,
    "start_time": "2022-01-16T05:58:14.497Z"
   },
   {
    "duration": 13,
    "start_time": "2022-01-16T05:58:20.654Z"
   },
   {
    "duration": 3756,
    "start_time": "2022-01-16T05:59:06.368Z"
   },
   {
    "duration": 3803,
    "start_time": "2022-01-16T05:59:45.743Z"
   },
   {
    "duration": 105,
    "start_time": "2022-01-16T06:01:59.172Z"
   },
   {
    "duration": 4043,
    "start_time": "2022-01-16T06:02:10.770Z"
   },
   {
    "duration": 7,
    "start_time": "2022-01-16T06:02:38.180Z"
   },
   {
    "duration": 8,
    "start_time": "2022-01-16T06:02:50.254Z"
   },
   {
    "duration": 42,
    "start_time": "2022-01-16T06:04:06.862Z"
   },
   {
    "duration": 10,
    "start_time": "2022-01-16T06:04:11.559Z"
   },
   {
    "duration": 4,
    "start_time": "2022-01-16T06:04:38.747Z"
   },
   {
    "duration": 213,
    "start_time": "2022-01-16T06:04:38.754Z"
   },
   {
    "duration": 189,
    "start_time": "2022-01-16T06:04:38.970Z"
   },
   {
    "duration": 124,
    "start_time": "2022-01-16T06:04:39.162Z"
   },
   {
    "duration": 28,
    "start_time": "2022-01-16T06:04:39.289Z"
   },
   {
    "duration": 46,
    "start_time": "2022-01-16T06:04:39.323Z"
   },
   {
    "duration": 228,
    "start_time": "2022-01-16T06:04:39.371Z"
   },
   {
    "duration": 40,
    "start_time": "2022-01-16T06:04:39.602Z"
   },
   {
    "duration": 35,
    "start_time": "2022-01-16T06:04:39.646Z"
   },
   {
    "duration": 46,
    "start_time": "2022-01-16T06:04:39.684Z"
   },
   {
    "duration": 11,
    "start_time": "2022-01-16T06:04:39.732Z"
   },
   {
    "duration": 108,
    "start_time": "2022-01-16T06:04:39.745Z"
   },
   {
    "duration": 7,
    "start_time": "2022-01-16T06:04:39.856Z"
   },
   {
    "duration": 127,
    "start_time": "2022-01-16T06:04:39.866Z"
   },
   {
    "duration": 60,
    "start_time": "2022-01-16T06:04:39.995Z"
   },
   {
    "duration": 43,
    "start_time": "2022-01-16T06:04:40.058Z"
   },
   {
    "duration": 9,
    "start_time": "2022-01-16T06:04:42.663Z"
   },
   {
    "duration": 5,
    "start_time": "2022-01-16T06:06:01.199Z"
   },
   {
    "duration": 8,
    "start_time": "2022-01-16T06:06:43.551Z"
   },
   {
    "duration": 7,
    "start_time": "2022-01-16T06:07:00.385Z"
   },
   {
    "duration": 24,
    "start_time": "2022-01-16T06:07:34.160Z"
   },
   {
    "duration": 179,
    "start_time": "2022-01-16T06:12:31.335Z"
   },
   {
    "duration": 54,
    "start_time": "2022-01-16T06:13:05.163Z"
   },
   {
    "duration": 54,
    "start_time": "2022-01-16T06:13:48.108Z"
   },
   {
    "duration": 180,
    "start_time": "2022-01-16T06:14:30.491Z"
   },
   {
    "duration": 52,
    "start_time": "2022-01-16T06:14:38.092Z"
   },
   {
    "duration": 58,
    "start_time": "2022-01-16T06:14:51.317Z"
   },
   {
    "duration": 534,
    "start_time": "2022-01-16T06:15:15.417Z"
   },
   {
    "duration": 650,
    "start_time": "2022-01-16T06:15:48.498Z"
   },
   {
    "duration": 350,
    "start_time": "2022-01-16T06:16:01.964Z"
   },
   {
    "duration": 318,
    "start_time": "2022-01-16T06:16:26.763Z"
   },
   {
    "duration": 322,
    "start_time": "2022-01-16T06:16:35.446Z"
   },
   {
    "duration": 379,
    "start_time": "2022-01-16T06:16:44.244Z"
   },
   {
    "duration": 337,
    "start_time": "2022-01-16T06:16:59.900Z"
   },
   {
    "duration": 600,
    "start_time": "2022-01-16T06:17:09.065Z"
   },
   {
    "duration": 431,
    "start_time": "2022-01-16T06:18:05.426Z"
   },
   {
    "duration": 734,
    "start_time": "2022-01-16T06:18:11.198Z"
   },
   {
    "duration": 835,
    "start_time": "2022-01-16T06:18:56.827Z"
   },
   {
    "duration": 535,
    "start_time": "2022-01-16T06:19:16.252Z"
   },
   {
    "duration": 296,
    "start_time": "2022-01-16T06:19:23.358Z"
   },
   {
    "duration": 22,
    "start_time": "2022-01-16T06:19:52.370Z"
   },
   {
    "duration": 24,
    "start_time": "2022-01-16T06:20:27.592Z"
   },
   {
    "duration": 10,
    "start_time": "2022-01-16T06:20:32.290Z"
   },
   {
    "duration": 10,
    "start_time": "2022-01-16T06:28:35.612Z"
   },
   {
    "duration": 4,
    "start_time": "2022-01-16T06:28:52.268Z"
   },
   {
    "duration": 225,
    "start_time": "2022-01-16T06:28:52.275Z"
   },
   {
    "duration": 210,
    "start_time": "2022-01-16T06:28:52.504Z"
   },
   {
    "duration": 127,
    "start_time": "2022-01-16T06:28:52.724Z"
   },
   {
    "duration": 29,
    "start_time": "2022-01-16T06:28:52.853Z"
   },
   {
    "duration": 45,
    "start_time": "2022-01-16T06:28:52.885Z"
   },
   {
    "duration": 257,
    "start_time": "2022-01-16T06:28:52.932Z"
   },
   {
    "duration": 48,
    "start_time": "2022-01-16T06:28:53.193Z"
   },
   {
    "duration": 36,
    "start_time": "2022-01-16T06:28:53.244Z"
   },
   {
    "duration": 42,
    "start_time": "2022-01-16T06:28:53.282Z"
   },
   {
    "duration": 9,
    "start_time": "2022-01-16T06:28:53.327Z"
   },
   {
    "duration": 107,
    "start_time": "2022-01-16T06:28:53.339Z"
   },
   {
    "duration": 9,
    "start_time": "2022-01-16T06:28:53.448Z"
   },
   {
    "duration": 135,
    "start_time": "2022-01-16T06:28:53.459Z"
   },
   {
    "duration": 59,
    "start_time": "2022-01-16T06:28:53.596Z"
   },
   {
    "duration": 42,
    "start_time": "2022-01-16T06:28:53.657Z"
   },
   {
    "duration": 23,
    "start_time": "2022-01-16T06:28:53.701Z"
   },
   {
    "duration": 5,
    "start_time": "2022-01-16T06:28:53.727Z"
   },
   {
    "duration": 24,
    "start_time": "2022-01-16T06:28:53.735Z"
   },
   {
    "duration": 213,
    "start_time": "2022-01-16T06:28:53.762Z"
   },
   {
    "duration": 58,
    "start_time": "2022-01-16T06:28:53.977Z"
   },
   {
    "duration": 51,
    "start_time": "2022-01-16T06:28:54.038Z"
   },
   {
    "duration": 622,
    "start_time": "2022-01-16T06:28:54.094Z"
   },
   {
    "duration": 673,
    "start_time": "2022-01-16T06:28:54.720Z"
   },
   {
    "duration": 346,
    "start_time": "2022-01-16T06:28:55.396Z"
   },
   {
    "duration": 27,
    "start_time": "2022-01-16T06:28:55.745Z"
   },
   {
    "duration": 51,
    "start_time": "2022-01-16T06:28:55.774Z"
   },
   {
    "duration": 15,
    "start_time": "2022-01-16T06:28:55.828Z"
   },
   {
    "duration": 15,
    "start_time": "2022-01-16T06:28:55.847Z"
   },
   {
    "duration": 51,
    "start_time": "2022-01-16T06:31:56.206Z"
   },
   {
    "duration": 47,
    "start_time": "2022-01-16T06:32:23.443Z"
   },
   {
    "duration": 330,
    "start_time": "2022-01-16T06:41:20.496Z"
   },
   {
    "duration": 416,
    "start_time": "2022-01-16T06:41:47.256Z"
   },
   {
    "duration": 761,
    "start_time": "2022-01-16T06:42:16.268Z"
   },
   {
    "duration": 287,
    "start_time": "2022-01-16T07:48:37.013Z"
   },
   {
    "duration": 460,
    "start_time": "2022-01-16T07:48:45.371Z"
   },
   {
    "duration": 208,
    "start_time": "2022-01-16T07:48:45.833Z"
   },
   {
    "duration": 186,
    "start_time": "2022-01-16T07:48:46.044Z"
   },
   {
    "duration": 124,
    "start_time": "2022-01-16T07:48:46.233Z"
   },
   {
    "duration": 29,
    "start_time": "2022-01-16T07:48:46.359Z"
   },
   {
    "duration": 46,
    "start_time": "2022-01-16T07:48:46.391Z"
   },
   {
    "duration": 239,
    "start_time": "2022-01-16T07:48:46.439Z"
   },
   {
    "duration": 49,
    "start_time": "2022-01-16T07:48:46.682Z"
   },
   {
    "duration": 34,
    "start_time": "2022-01-16T07:48:46.734Z"
   },
   {
    "duration": 20,
    "start_time": "2022-01-16T07:48:46.771Z"
   },
   {
    "duration": 33,
    "start_time": "2022-01-16T07:48:46.793Z"
   },
   {
    "duration": 106,
    "start_time": "2022-01-16T07:48:46.829Z"
   },
   {
    "duration": 8,
    "start_time": "2022-01-16T07:48:46.937Z"
   },
   {
    "duration": 132,
    "start_time": "2022-01-16T07:48:46.947Z"
   },
   {
    "duration": 58,
    "start_time": "2022-01-16T07:48:47.081Z"
   },
   {
    "duration": 45,
    "start_time": "2022-01-16T07:48:47.141Z"
   },
   {
    "duration": 9,
    "start_time": "2022-01-16T07:48:47.188Z"
   },
   {
    "duration": 6,
    "start_time": "2022-01-16T07:48:47.224Z"
   },
   {
    "duration": 26,
    "start_time": "2022-01-16T07:48:47.232Z"
   },
   {
    "duration": 197,
    "start_time": "2022-01-16T07:48:47.260Z"
   },
   {
    "duration": 45,
    "start_time": "2022-01-16T07:48:47.460Z"
   },
   {
    "duration": 45,
    "start_time": "2022-01-16T07:48:47.523Z"
   },
   {
    "duration": 562,
    "start_time": "2022-01-16T07:48:47.572Z"
   },
   {
    "duration": 630,
    "start_time": "2022-01-16T07:48:48.137Z"
   },
   {
    "duration": 349,
    "start_time": "2022-01-16T07:48:48.769Z"
   },
   {
    "duration": 25,
    "start_time": "2022-01-16T07:48:49.124Z"
   },
   {
    "duration": 23,
    "start_time": "2022-01-16T07:48:49.152Z"
   },
   {
    "duration": 53,
    "start_time": "2022-01-16T07:48:49.177Z"
   },
   {
    "duration": 16,
    "start_time": "2022-01-16T07:48:49.232Z"
   },
   {
    "duration": 306,
    "start_time": "2022-01-16T07:48:58.692Z"
   },
   {
    "duration": 7,
    "start_time": "2022-01-16T07:49:09.912Z"
   },
   {
    "duration": 24,
    "start_time": "2022-01-16T07:51:39.909Z"
   },
   {
    "duration": 26,
    "start_time": "2022-01-16T07:51:44.528Z"
   },
   {
    "duration": 834,
    "start_time": "2022-01-16T08:03:03.308Z"
   },
   {
    "duration": 178,
    "start_time": "2022-01-16T08:03:10.081Z"
   },
   {
    "duration": 62,
    "start_time": "2022-01-16T08:03:10.261Z"
   },
   {
    "duration": 42,
    "start_time": "2022-01-16T08:03:10.326Z"
   },
   {
    "duration": 559,
    "start_time": "2022-01-16T08:03:10.371Z"
   },
   {
    "duration": 577,
    "start_time": "2022-01-16T08:03:10.932Z"
   },
   {
    "duration": 332,
    "start_time": "2022-01-16T08:03:11.512Z"
   },
   {
    "duration": 23,
    "start_time": "2022-01-16T08:03:11.847Z"
   },
   {
    "duration": 50,
    "start_time": "2022-01-16T08:03:11.874Z"
   },
   {
    "duration": 12,
    "start_time": "2022-01-16T08:03:11.926Z"
   },
   {
    "duration": 17,
    "start_time": "2022-01-16T08:03:11.940Z"
   },
   {
    "duration": 6,
    "start_time": "2022-01-16T08:03:11.960Z"
   },
   {
    "duration": 338,
    "start_time": "2022-01-16T08:03:39.420Z"
   },
   {
    "duration": 113,
    "start_time": "2022-01-16T08:06:17.312Z"
   },
   {
    "duration": 284,
    "start_time": "2022-01-16T08:06:23.170Z"
   },
   {
    "duration": 279,
    "start_time": "2022-01-16T08:06:41.738Z"
   },
   {
    "duration": 6,
    "start_time": "2022-01-16T08:07:02.470Z"
   },
   {
    "duration": 6,
    "start_time": "2022-01-16T08:07:18.762Z"
   },
   {
    "duration": 7,
    "start_time": "2022-01-16T08:07:24.498Z"
   },
   {
    "duration": 7,
    "start_time": "2022-01-16T08:07:30.273Z"
   },
   {
    "duration": 6,
    "start_time": "2022-01-16T08:07:39.493Z"
   },
   {
    "duration": 6,
    "start_time": "2022-01-16T08:07:45.752Z"
   },
   {
    "duration": 6,
    "start_time": "2022-01-16T08:08:28.630Z"
   },
   {
    "duration": 3,
    "start_time": "2022-01-16T08:17:55.905Z"
   },
   {
    "duration": 89,
    "start_time": "2022-01-16T08:18:47.805Z"
   },
   {
    "duration": 515,
    "start_time": "2022-01-16T08:25:18.628Z"
   },
   {
    "duration": 25,
    "start_time": "2022-01-16T08:31:24.662Z"
   },
   {
    "duration": 24,
    "start_time": "2022-01-16T08:31:45.352Z"
   },
   {
    "duration": 28,
    "start_time": "2022-01-16T08:32:11.529Z"
   },
   {
    "duration": 500,
    "start_time": "2022-01-16T08:32:44.020Z"
   },
   {
    "duration": 495,
    "start_time": "2022-01-16T08:33:02.965Z"
   },
   {
    "duration": 13,
    "start_time": "2022-01-16T08:33:34.639Z"
   },
   {
    "duration": 14,
    "start_time": "2022-01-16T08:33:39.061Z"
   },
   {
    "duration": 3,
    "start_time": "2022-01-16T08:39:55.377Z"
   },
   {
    "duration": 1412,
    "start_time": "2022-01-18T19:12:21.302Z"
   },
   {
    "duration": 239,
    "start_time": "2022-01-18T19:12:22.717Z"
   },
   {
    "duration": 195,
    "start_time": "2022-01-18T19:12:22.964Z"
   },
   {
    "duration": 139,
    "start_time": "2022-01-18T19:12:23.164Z"
   },
   {
    "duration": 32,
    "start_time": "2022-01-18T19:12:23.306Z"
   },
   {
    "duration": 50,
    "start_time": "2022-01-18T19:12:23.341Z"
   },
   {
    "duration": 297,
    "start_time": "2022-01-18T19:12:23.393Z"
   },
   {
    "duration": 40,
    "start_time": "2022-01-18T19:12:23.696Z"
   },
   {
    "duration": 58,
    "start_time": "2022-01-18T19:12:23.740Z"
   },
   {
    "duration": 24,
    "start_time": "2022-01-18T19:12:23.801Z"
   },
   {
    "duration": 40,
    "start_time": "2022-01-18T19:12:23.828Z"
   },
   {
    "duration": 109,
    "start_time": "2022-01-18T19:12:23.870Z"
   },
   {
    "duration": 16,
    "start_time": "2022-01-18T19:12:23.981Z"
   },
   {
    "duration": 145,
    "start_time": "2022-01-18T19:12:23.999Z"
   },
   {
    "duration": 61,
    "start_time": "2022-01-18T19:12:24.147Z"
   },
   {
    "duration": 59,
    "start_time": "2022-01-18T19:12:24.211Z"
   },
   {
    "duration": 11,
    "start_time": "2022-01-18T19:12:24.273Z"
   },
   {
    "duration": 12,
    "start_time": "2022-01-18T19:12:24.286Z"
   },
   {
    "duration": 30,
    "start_time": "2022-01-18T19:12:24.300Z"
   },
   {
    "duration": 1353,
    "start_time": "2022-01-18T19:12:24.332Z"
   },
   {
    "duration": 47,
    "start_time": "2022-01-18T19:12:25.688Z"
   },
   {
    "duration": 67,
    "start_time": "2022-01-18T19:12:25.738Z"
   },
   {
    "duration": 709,
    "start_time": "2022-01-18T19:12:25.811Z"
   },
   {
    "duration": 625,
    "start_time": "2022-01-18T19:12:26.523Z"
   },
   {
    "duration": 377,
    "start_time": "2022-01-18T19:12:27.152Z"
   },
   {
    "duration": 38,
    "start_time": "2022-01-18T19:12:27.532Z"
   },
   {
    "duration": 33,
    "start_time": "2022-01-18T19:12:27.573Z"
   },
   {
    "duration": 13,
    "start_time": "2022-01-18T19:12:27.609Z"
   },
   {
    "duration": 41,
    "start_time": "2022-01-18T19:12:27.624Z"
   },
   {
    "duration": 9,
    "start_time": "2022-01-18T19:12:27.668Z"
   },
   {
    "duration": 42,
    "start_time": "2022-01-18T19:12:27.680Z"
   },
   {
    "duration": 5,
    "start_time": "2022-01-18T19:18:39.225Z"
   },
   {
    "duration": 9,
    "start_time": "2022-01-18T19:18:47.997Z"
   },
   {
    "duration": 21,
    "start_time": "2022-01-18T19:23:48.956Z"
   },
   {
    "duration": 30,
    "start_time": "2022-01-18T19:24:23.631Z"
   },
   {
    "duration": 956,
    "start_time": "2022-01-19T05:47:14.270Z"
   },
   {
    "duration": 177,
    "start_time": "2022-01-19T05:47:15.228Z"
   },
   {
    "duration": 145,
    "start_time": "2022-01-19T05:47:15.407Z"
   },
   {
    "duration": 107,
    "start_time": "2022-01-19T05:47:15.554Z"
   },
   {
    "duration": 24,
    "start_time": "2022-01-19T05:47:15.663Z"
   },
   {
    "duration": 41,
    "start_time": "2022-01-19T05:47:15.689Z"
   },
   {
    "duration": 179,
    "start_time": "2022-01-19T05:47:15.732Z"
   },
   {
    "duration": 36,
    "start_time": "2022-01-19T05:47:15.914Z"
   },
   {
    "duration": 24,
    "start_time": "2022-01-19T05:47:15.952Z"
   },
   {
    "duration": 13,
    "start_time": "2022-01-19T05:47:15.977Z"
   },
   {
    "duration": 10,
    "start_time": "2022-01-19T05:47:15.991Z"
   },
   {
    "duration": 85,
    "start_time": "2022-01-19T05:47:16.003Z"
   },
   {
    "duration": 4,
    "start_time": "2022-01-19T05:47:16.090Z"
   },
   {
    "duration": 3,
    "start_time": "2022-01-19T05:47:16.096Z"
   },
   {
    "duration": 105,
    "start_time": "2022-01-19T05:47:16.101Z"
   },
   {
    "duration": 42,
    "start_time": "2022-01-19T05:47:16.208Z"
   },
   {
    "duration": 33,
    "start_time": "2022-01-19T05:47:23.667Z"
   },
   {
    "duration": 4,
    "start_time": "2022-01-19T05:52:28.297Z"
   },
   {
    "duration": 178,
    "start_time": "2022-01-19T05:52:28.303Z"
   },
   {
    "duration": 147,
    "start_time": "2022-01-19T05:52:28.484Z"
   },
   {
    "duration": 106,
    "start_time": "2022-01-19T05:52:28.633Z"
   },
   {
    "duration": 26,
    "start_time": "2022-01-19T05:52:28.741Z"
   },
   {
    "duration": 39,
    "start_time": "2022-01-19T05:52:28.769Z"
   },
   {
    "duration": 163,
    "start_time": "2022-01-19T05:52:28.810Z"
   },
   {
    "duration": 25,
    "start_time": "2022-01-19T05:52:28.974Z"
   },
   {
    "duration": 43,
    "start_time": "2022-01-19T05:52:29.002Z"
   },
   {
    "duration": 14,
    "start_time": "2022-01-19T05:52:29.047Z"
   },
   {
    "duration": 10,
    "start_time": "2022-01-19T05:52:29.063Z"
   },
   {
    "duration": 84,
    "start_time": "2022-01-19T05:52:29.075Z"
   },
   {
    "duration": 4,
    "start_time": "2022-01-19T05:52:29.161Z"
   },
   {
    "duration": 5,
    "start_time": "2022-01-19T05:52:29.166Z"
   },
   {
    "duration": 100,
    "start_time": "2022-01-19T05:52:29.173Z"
   },
   {
    "duration": 38,
    "start_time": "2022-01-19T05:52:29.275Z"
   },
   {
    "duration": 49,
    "start_time": "2022-01-19T05:52:29.315Z"
   },
   {
    "duration": 6,
    "start_time": "2022-01-19T05:52:29.366Z"
   },
   {
    "duration": 5,
    "start_time": "2022-01-19T05:52:29.373Z"
   },
   {
    "duration": 17,
    "start_time": "2022-01-19T05:52:29.380Z"
   },
   {
    "duration": 5,
    "start_time": "2022-01-19T05:52:29.399Z"
   },
   {
    "duration": 534,
    "start_time": "2022-01-19T05:52:29.405Z"
   },
   {
    "duration": 26,
    "start_time": "2022-01-19T05:52:29.941Z"
   },
   {
    "duration": 25,
    "start_time": "2022-01-19T05:52:29.969Z"
   },
   {
    "duration": 335,
    "start_time": "2022-01-19T05:52:29.996Z"
   },
   {
    "duration": 368,
    "start_time": "2022-01-19T05:52:30.341Z"
   },
   {
    "duration": 240,
    "start_time": "2022-01-19T05:52:30.712Z"
   },
   {
    "duration": 17,
    "start_time": "2022-01-19T05:52:30.954Z"
   },
   {
    "duration": 30,
    "start_time": "2022-01-19T05:52:30.973Z"
   },
   {
    "duration": 10,
    "start_time": "2022-01-19T05:52:31.005Z"
   },
   {
    "duration": 10,
    "start_time": "2022-01-19T05:52:31.041Z"
   },
   {
    "duration": 31,
    "start_time": "2022-01-19T05:52:31.053Z"
   },
   {
    "duration": 9,
    "start_time": "2022-01-19T05:52:31.086Z"
   },
   {
    "duration": 17,
    "start_time": "2022-01-19T05:52:31.096Z"
   },
   {
    "duration": 3,
    "start_time": "2022-01-19T05:53:28.259Z"
   },
   {
    "duration": 209,
    "start_time": "2022-01-19T05:53:28.264Z"
   },
   {
    "duration": 159,
    "start_time": "2022-01-19T05:53:28.477Z"
   },
   {
    "duration": 111,
    "start_time": "2022-01-19T05:53:28.642Z"
   },
   {
    "duration": 29,
    "start_time": "2022-01-19T05:53:28.755Z"
   },
   {
    "duration": 43,
    "start_time": "2022-01-19T05:53:28.787Z"
   },
   {
    "duration": 183,
    "start_time": "2022-01-19T05:53:28.832Z"
   },
   {
    "duration": 41,
    "start_time": "2022-01-19T05:53:29.018Z"
   },
   {
    "duration": 29,
    "start_time": "2022-01-19T05:53:29.063Z"
   },
   {
    "duration": 25,
    "start_time": "2022-01-19T05:53:29.095Z"
   },
   {
    "duration": 28,
    "start_time": "2022-01-19T05:53:29.122Z"
   },
   {
    "duration": 79,
    "start_time": "2022-01-19T05:53:29.152Z"
   },
   {
    "duration": 10,
    "start_time": "2022-01-19T05:53:29.233Z"
   },
   {
    "duration": 11,
    "start_time": "2022-01-19T05:53:29.245Z"
   },
   {
    "duration": 111,
    "start_time": "2022-01-19T05:53:29.258Z"
   },
   {
    "duration": 42,
    "start_time": "2022-01-19T05:53:29.371Z"
   },
   {
    "duration": 46,
    "start_time": "2022-01-19T05:53:29.414Z"
   },
   {
    "duration": 8,
    "start_time": "2022-01-19T05:53:29.462Z"
   },
   {
    "duration": 5,
    "start_time": "2022-01-19T05:53:29.472Z"
   },
   {
    "duration": 17,
    "start_time": "2022-01-19T05:53:29.479Z"
   },
   {
    "duration": 7,
    "start_time": "2022-01-19T05:53:29.498Z"
   },
   {
    "duration": 145,
    "start_time": "2022-01-19T05:53:29.507Z"
   },
   {
    "duration": 29,
    "start_time": "2022-01-19T05:53:29.654Z"
   },
   {
    "duration": 29,
    "start_time": "2022-01-19T05:53:29.685Z"
   },
   {
    "duration": 429,
    "start_time": "2022-01-19T05:53:29.717Z"
   },
   {
    "duration": 362,
    "start_time": "2022-01-19T05:53:30.149Z"
   },
   {
    "duration": 209,
    "start_time": "2022-01-19T05:53:30.515Z"
   },
   {
    "duration": 26,
    "start_time": "2022-01-19T05:53:30.726Z"
   },
   {
    "duration": 19,
    "start_time": "2022-01-19T05:53:30.754Z"
   },
   {
    "duration": 9,
    "start_time": "2022-01-19T05:53:30.775Z"
   },
   {
    "duration": 9,
    "start_time": "2022-01-19T05:53:30.786Z"
   },
   {
    "duration": 32,
    "start_time": "2022-01-19T05:53:30.797Z"
   },
   {
    "duration": 21,
    "start_time": "2022-01-19T05:53:30.831Z"
   },
   {
    "duration": 27,
    "start_time": "2022-01-19T05:53:30.853Z"
   }
  ],
  "kernelspec": {
   "display_name": "Python 3 (ipykernel)",
   "language": "python",
   "name": "python3"
  },
  "language_info": {
   "codemirror_mode": {
    "name": "ipython",
    "version": 3
   },
   "file_extension": ".py",
   "mimetype": "text/x-python",
   "name": "python",
   "nbconvert_exporter": "python",
   "pygments_lexer": "ipython3",
   "version": "3.9.7"
  },
  "toc": {
   "base_numbering": 1,
   "nav_menu": {
    "height": "128px",
    "width": "160px"
   },
   "number_sections": true,
   "sideBar": true,
   "skip_h1_title": true,
   "title_cell": "Table of Contents",
   "title_sidebar": "Contents",
   "toc_cell": false,
   "toc_position": {
    "height": "calc(100% - 180px)",
    "left": "10px",
    "top": "150px",
    "width": "289.6px"
   },
   "toc_section_display": true,
   "toc_window_display": true
  }
 },
 "nbformat": 4,
 "nbformat_minor": 2
}
